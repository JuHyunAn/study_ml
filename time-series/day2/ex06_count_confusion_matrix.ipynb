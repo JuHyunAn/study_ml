{
  "cells": [
    {
      "metadata": {
        "trusted": true
      },
      "cell_type": "code",
      "source": "from collections import defaultdict\nfrom collections import Counter",
      "execution_count": 1,
      "outputs": []
    },
    {
      "metadata": {
        "trusted": true
      },
      "cell_type": "code",
      "source": "import random",
      "execution_count": 2,
      "outputs": []
    },
    {
      "metadata": {
        "trusted": true
      },
      "cell_type": "code",
      "source": "for i in range(10):\n    print( random.randint(0,1) )",
      "execution_count": 8,
      "outputs": [
        {
          "output_type": "stream",
          "text": "1\n0\n0\n0\n1\n1\n0\n1\n1\n1\n",
          "name": "stdout"
        }
      ]
    },
    {
      "metadata": {
        "trusted": true
      },
      "cell_type": "code",
      "source": "names = ['건강', '암']\nfor i in range(10):\n    d = random.randint(0,1)\n    print( names[d]  )",
      "execution_count": 58,
      "outputs": [
        {
          "output_type": "stream",
          "text": "암\n암\n암\n건강\n암\n암\n건강\n암\n암\n건강\n",
          "name": "stdout"
        }
      ]
    },
    {
      "metadata": {
        "trusted": true
      },
      "cell_type": "code",
      "source": "data = [ ( random.randint(0,1) , random.randint(0,1) ) for i in range(20)]\nprint(data)",
      "execution_count": 59,
      "outputs": [
        {
          "output_type": "stream",
          "text": "[(1, 1), (1, 0), (0, 0), (1, 0), (1, 0), (0, 0), (1, 1), (0, 1), (1, 1), (1, 1), (1, 0), (0, 0), (1, 1), (1, 0), (0, 0), (1, 0), (1, 0), (1, 1), (0, 1), (1, 1)]\n",
          "name": "stdout"
        }
      ]
    },
    {
      "metadata": {
        "trusted": true
      },
      "cell_type": "code",
      "source": "data2 = [ (names[y_pred], names[y_real])  for y_pred, y_real in data]\nprint('예측  |  실제')\nfor y_pred, y_real in data2:\n    print(y_pred,'\\t',y_real)",
      "execution_count": 60,
      "outputs": [
        {
          "output_type": "stream",
          "text": "예측  |  실제\n암 \t 암\n암 \t 건강\n건강 \t 건강\n암 \t 건강\n암 \t 건강\n건강 \t 건강\n암 \t 암\n건강 \t 암\n암 \t 암\n암 \t 암\n암 \t 건강\n건강 \t 건강\n암 \t 암\n암 \t 건강\n건강 \t 건강\n암 \t 건강\n암 \t 건강\n암 \t 암\n건강 \t 암\n암 \t 암\n",
          "name": "stdout"
        }
      ]
    },
    {
      "metadata": {
        "trusted": true
      },
      "cell_type": "code",
      "source": "cnt = Counter(data)",
      "execution_count": null,
      "outputs": []
    },
    {
      "metadata": {
        "trusted": true
      },
      "cell_type": "code",
      "source": "print(cnt)",
      "execution_count": null,
      "outputs": []
    },
    {
      "metadata": {
        "trusted": true
      },
      "cell_type": "code",
      "source": "'예측  |  실제'\nTP = cnt[(1, 1)]\nFN = cnt[(0, 1)]\n??? = cnt[(0, 0)] # TN\n??? = cnt[(1, 0)] # FP",
      "execution_count": 61,
      "outputs": []
    },
    {
      "metadata": {
        "trusted": true
      },
      "cell_type": "code",
      "source": "Acc = (TP + TN) / (TP + TN + FP + FN)\ntry:\n    Precision = TP / (TP + FP)\nexcept: # 학습초기에 decision by zero 발생 가능 (범죄라고 판단한 건수가 zero인 상황\n    Precision = 0\n\ntry:\n    Recall = TP / (TP + FN)\nexcept:\n    Recall = 0\n\nprint('\\nTP :', TP, ' FN :',FN , ' TN :', TN, ' FP :', FP)\nprint('Recall: %.3f, Precision: %.3f, Acc: %.3f' % (Recall, Precision, Acc))",
      "execution_count": 62,
      "outputs": [
        {
          "output_type": "stream",
          "text": "\nTP : 4  FN : 4  TN : 6  FP : 6\nRecall: 0.500, Precision: 0.400, Acc: 0.500\n",
          "name": "stdout"
        }
      ]
    },
    {
      "metadata": {
        "trusted": true
      },
      "cell_type": "code",
      "source": "",
      "execution_count": null,
      "outputs": []
    }
  ],
  "metadata": {
    "kernelspec": {
      "name": "python36",
      "display_name": "Python 3.6",
      "language": "python"
    },
    "language_info": {
      "mimetype": "text/x-python",
      "nbconvert_exporter": "python",
      "name": "python",
      "pygments_lexer": "ipython3",
      "version": "3.6.6",
      "file_extension": ".py",
      "codemirror_mode": {
        "version": 3,
        "name": "ipython"
      }
    }
  },
  "nbformat": 4,
  "nbformat_minor": 1
}