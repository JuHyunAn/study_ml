{
 "cells": [
  {
   "cell_type": "markdown",
   "metadata": {},
   "source": [
    "# 제곱 함수와 n 제곱 함수 만들기"
   ]
  },
  {
   "cell_type": "code",
   "execution_count": 1,
   "metadata": {},
   "outputs": [],
   "source": [
    "def my_sq(x):\n",
    "    return x ** 2\n",
    "\n",
    "def my_exp(x, n):\n",
    "    return x ** n"
   ]
  },
  {
   "cell_type": "code",
   "execution_count": 2,
   "metadata": {},
   "outputs": [
    {
     "name": "stdout",
     "output_type": "stream",
     "text": [
      "16\n",
      "16\n"
     ]
    }
   ],
   "source": [
    "print(my_sq(4))\n",
    "print(my_exp(2,4))"
   ]
  },
  {
   "cell_type": "markdown",
   "metadata": {},
   "source": [
    "# 시리즈와 apply 메서드"
   ]
  },
  {
   "cell_type": "code",
   "execution_count": 3,
   "metadata": {},
   "outputs": [
    {
     "name": "stdout",
     "output_type": "stream",
     "text": [
      "    a   b\n",
      "0  10  20\n",
      "1  20  30\n",
      "2  30  40\n"
     ]
    }
   ],
   "source": [
    "import pandas as pd\n",
    "\n",
    "df = pd.DataFrame({'a':[10,20,30], 'b':[20,30,40]})\n",
    "print(df)"
   ]
  },
  {
   "cell_type": "code",
   "execution_count": 4,
   "metadata": {},
   "outputs": [
    {
     "name": "stdout",
     "output_type": "stream",
     "text": [
      "0    100\n",
      "1    400\n",
      "2    900\n",
      "Name: a, dtype: int64\n",
      "0    100\n",
      "1    400\n",
      "2    900\n",
      "Name: a, dtype: int64\n"
     ]
    }
   ],
   "source": [
    "print(df['a']**2)\n",
    "\n",
    "sq = df['a'].apply(my_sq) # 함수 적용\n",
    "print(sq)"
   ]
  },
  {
   "cell_type": "code",
   "execution_count": 5,
   "metadata": {},
   "outputs": [
    {
     "name": "stdout",
     "output_type": "stream",
     "text": [
      "0    100\n",
      "1    400\n",
      "2    900\n",
      "Name: a, dtype: int64\n",
      "0     1000\n",
      "1     8000\n",
      "2    27000\n",
      "Name: a, dtype: int64\n"
     ]
    }
   ],
   "source": [
    "ex = df['a'].apply(my_exp, n=2) # df['a']가 my_exp()의 첫번째 인자로, n=2가 두번째 인자로 전달됨\n",
    "print(ex)\n",
    "\n",
    "ex = df['a'].apply(my_exp, n=3)\n",
    "print(ex)"
   ]
  },
  {
   "cell_type": "markdown",
   "metadata": {},
   "source": [
    "# 데이터 프레임과 apply 메서드"
   ]
  },
  {
   "cell_type": "code",
   "execution_count": 6,
   "metadata": {},
   "outputs": [
    {
     "name": "stdout",
     "output_type": "stream",
     "text": [
      "    a   b\n",
      "0  10  20\n",
      "1  20  30\n",
      "2  30  40\n"
     ]
    }
   ],
   "source": [
    "df = pd.DataFrame({'a':[10,20,30], 'b':[20,30,40]})\n",
    "print(df)"
   ]
  },
  {
   "cell_type": "code",
   "execution_count": 7,
   "metadata": {},
   "outputs": [],
   "source": [
    "def print_me(x):\n",
    "    print(x)"
   ]
  },
  {
   "cell_type": "code",
   "execution_count": 9,
   "metadata": {},
   "outputs": [
    {
     "name": "stdout",
     "output_type": "stream",
     "text": [
      "0    10\n",
      "1    20\n",
      "2    30\n",
      "Name: a, dtype: int64\n",
      "0    20\n",
      "1    30\n",
      "2    40\n",
      "Name: b, dtype: int64\n",
      "a    None\n",
      "b    None\n",
      "dtype: object\n"
     ]
    }
   ],
   "source": [
    "# 함수를 열 방향으로 적용할지, 행 방향으로 적용할지 정해야 함\n",
    "# axis= 0 : 열 / axis=1 : 행\n",
    "print(df.apply(print_me, axis=0))"
   ]
  },
  {
   "cell_type": "code",
   "execution_count": 15,
   "metadata": {},
   "outputs": [
    {
     "ename": "TypeError",
     "evalue": "(\"avg_3() missing 2 required positional arguments: 'y' and 'z'\", 'occurred at index a')",
     "output_type": "error",
     "traceback": [
      "\u001b[1;31m---------------------------------------------------------------------------\u001b[0m",
      "\u001b[1;31mTypeError\u001b[0m                                 Traceback (most recent call last)",
      "\u001b[1;32m<ipython-input-15-3b74a3ca8c86>\u001b[0m in \u001b[0;36m<module>\u001b[1;34m()\u001b[0m\n\u001b[0;32m      2\u001b[0m     \u001b[1;32mreturn\u001b[0m \u001b[1;33m(\u001b[0m\u001b[0mx\u001b[0m\u001b[1;33m+\u001b[0m\u001b[0my\u001b[0m\u001b[1;33m+\u001b[0m\u001b[0mz\u001b[0m\u001b[1;33m)\u001b[0m\u001b[1;33m/\u001b[0m\u001b[1;36m3\u001b[0m\u001b[1;33m\u001b[0m\u001b[0m\n\u001b[0;32m      3\u001b[0m \u001b[1;33m\u001b[0m\u001b[0m\n\u001b[1;32m----> 4\u001b[1;33m \u001b[0mprint\u001b[0m\u001b[1;33m(\u001b[0m\u001b[0mdf\u001b[0m\u001b[1;33m.\u001b[0m\u001b[0mapply\u001b[0m\u001b[1;33m(\u001b[0m\u001b[0mavg_3\u001b[0m\u001b[1;33m)\u001b[0m\u001b[1;33m)\u001b[0m \u001b[1;31m# 3개의 인자가 필요한데 df['a']로 1개의 인자만 인식해서 오류 발생\u001b[0m\u001b[1;33m\u001b[0m\u001b[0m\n\u001b[0m",
      "\u001b[1;32mc:\\anaconda3\\lib\\site-packages\\pandas\\core\\frame.py\u001b[0m in \u001b[0;36mapply\u001b[1;34m(self, func, axis, broadcast, raw, reduce, args, **kwds)\u001b[0m\n\u001b[0;32m   4875\u001b[0m                         \u001b[0mf\u001b[0m\u001b[1;33m,\u001b[0m \u001b[0maxis\u001b[0m\u001b[1;33m,\u001b[0m\u001b[1;33m\u001b[0m\u001b[0m\n\u001b[0;32m   4876\u001b[0m                         \u001b[0mreduce\u001b[0m\u001b[1;33m=\u001b[0m\u001b[0mreduce\u001b[0m\u001b[1;33m,\u001b[0m\u001b[1;33m\u001b[0m\u001b[0m\n\u001b[1;32m-> 4877\u001b[1;33m                         ignore_failures=ignore_failures)\n\u001b[0m\u001b[0;32m   4878\u001b[0m             \u001b[1;32melse\u001b[0m\u001b[1;33m:\u001b[0m\u001b[1;33m\u001b[0m\u001b[0m\n\u001b[0;32m   4879\u001b[0m                 \u001b[1;32mreturn\u001b[0m \u001b[0mself\u001b[0m\u001b[1;33m.\u001b[0m\u001b[0m_apply_broadcast\u001b[0m\u001b[1;33m(\u001b[0m\u001b[0mf\u001b[0m\u001b[1;33m,\u001b[0m \u001b[0maxis\u001b[0m\u001b[1;33m)\u001b[0m\u001b[1;33m\u001b[0m\u001b[0m\n",
      "\u001b[1;32mc:\\anaconda3\\lib\\site-packages\\pandas\\core\\frame.py\u001b[0m in \u001b[0;36m_apply_standard\u001b[1;34m(self, func, axis, ignore_failures, reduce)\u001b[0m\n\u001b[0;32m   4971\u001b[0m             \u001b[1;32mtry\u001b[0m\u001b[1;33m:\u001b[0m\u001b[1;33m\u001b[0m\u001b[0m\n\u001b[0;32m   4972\u001b[0m                 \u001b[1;32mfor\u001b[0m \u001b[0mi\u001b[0m\u001b[1;33m,\u001b[0m \u001b[0mv\u001b[0m \u001b[1;32min\u001b[0m \u001b[0menumerate\u001b[0m\u001b[1;33m(\u001b[0m\u001b[0mseries_gen\u001b[0m\u001b[1;33m)\u001b[0m\u001b[1;33m:\u001b[0m\u001b[1;33m\u001b[0m\u001b[0m\n\u001b[1;32m-> 4973\u001b[1;33m                     \u001b[0mresults\u001b[0m\u001b[1;33m[\u001b[0m\u001b[0mi\u001b[0m\u001b[1;33m]\u001b[0m \u001b[1;33m=\u001b[0m \u001b[0mfunc\u001b[0m\u001b[1;33m(\u001b[0m\u001b[0mv\u001b[0m\u001b[1;33m)\u001b[0m\u001b[1;33m\u001b[0m\u001b[0m\n\u001b[0m\u001b[0;32m   4974\u001b[0m                     \u001b[0mkeys\u001b[0m\u001b[1;33m.\u001b[0m\u001b[0mappend\u001b[0m\u001b[1;33m(\u001b[0m\u001b[0mv\u001b[0m\u001b[1;33m.\u001b[0m\u001b[0mname\u001b[0m\u001b[1;33m)\u001b[0m\u001b[1;33m\u001b[0m\u001b[0m\n\u001b[0;32m   4975\u001b[0m             \u001b[1;32mexcept\u001b[0m \u001b[0mException\u001b[0m \u001b[1;32mas\u001b[0m \u001b[0me\u001b[0m\u001b[1;33m:\u001b[0m\u001b[1;33m\u001b[0m\u001b[0m\n",
      "\u001b[1;31mTypeError\u001b[0m: (\"avg_3() missing 2 required positional arguments: 'y' and 'z'\", 'occurred at index a')"
     ]
    }
   ],
   "source": [
    "def avg_3(x,y,z):\n",
    "    return (x+y+z)/3\n",
    "\n",
    "print(df.apply(avg_3)) # 3개의 인자가 필요한데 df['a']로 1개의 인자만 인식해서 오류 발생"
   ]
  },
  {
   "cell_type": "code",
   "execution_count": 16,
   "metadata": {},
   "outputs": [
    {
     "name": "stdout",
     "output_type": "stream",
     "text": [
      "a    20.0\n",
      "b    30.0\n",
      "dtype: float64\n"
     ]
    }
   ],
   "source": [
    "# 열 단위로 데이터를 처리 할 수 있도록 수정\n",
    "def avg_3_apply(col):\n",
    "    x = col[0]\n",
    "    y = col[1]\n",
    "    z = col[2]\n",
    "    return (x+y+z)/3\n",
    "\n",
    "print(df.apply(avg_3_apply))"
   ]
  },
  {
   "cell_type": "code",
   "execution_count": null,
   "metadata": {},
   "outputs": [],
   "source": [
    "# 열 방향\n",
    "def avg_3_apply(col):\n",
    "    sum = 0\n",
    "    for item in col:\n",
    "        sum += item\n",
    "    return sum / df.shape[0] \n",
    "\n",
    "# 행 방향\n",
    "def avg_2_apply(row):\n",
    "    sum = 0\n",
    "    for item in row:\n",
    "        sum += item\n",
    "    return sum / df.shape[1]"
   ]
  },
  {
   "cell_type": "markdown",
   "metadata": {},
   "source": [
    "# 데이터프레임의 누락값을 처리한 다음 apply 메서드 사용하기 - 열 방향"
   ]
  },
  {
   "cell_type": "code",
   "execution_count": 18,
   "metadata": {},
   "outputs": [
    {
     "name": "stdout",
     "output_type": "stream",
     "text": [
      "<class 'pandas.core.frame.DataFrame'>\n",
      "RangeIndex: 891 entries, 0 to 890\n",
      "Data columns (total 15 columns):\n",
      "survived       891 non-null int64\n",
      "pclass         891 non-null int64\n",
      "sex            891 non-null object\n",
      "age            714 non-null float64\n",
      "sibsp          891 non-null int64\n",
      "parch          891 non-null int64\n",
      "fare           891 non-null float64\n",
      "embarked       889 non-null object\n",
      "class          891 non-null category\n",
      "who            891 non-null object\n",
      "adult_male     891 non-null bool\n",
      "deck           203 non-null category\n",
      "embark_town    889 non-null object\n",
      "alive          891 non-null object\n",
      "alone          891 non-null bool\n",
      "dtypes: bool(2), category(2), float64(2), int64(4), object(5)\n",
      "memory usage: 80.6+ KB\n",
      "None\n"
     ]
    }
   ],
   "source": [
    "import seaborn as sns\n",
    "\n",
    "titanic = sns.load_dataset('titanic')\n",
    "print(titanic.info())"
   ]
  },
  {
   "cell_type": "code",
   "execution_count": 19,
   "metadata": {},
   "outputs": [],
   "source": [
    "import numpy as np\n",
    "\n",
    "# 누락값의 개수 반환 함수\n",
    "def count_missing(vec):\n",
    "    null_vec = pd.isnull(vec)\n",
    "    null_count = np.sum(null_vec)\n",
    "    return null_count"
   ]
  },
  {
   "cell_type": "code",
   "execution_count": 20,
   "metadata": {},
   "outputs": [
    {
     "name": "stdout",
     "output_type": "stream",
     "text": [
      "survived         0\n",
      "pclass           0\n",
      "sex              0\n",
      "age            177\n",
      "sibsp            0\n",
      "parch            0\n",
      "fare             0\n",
      "embarked         2\n",
      "class            0\n",
      "who              0\n",
      "adult_male       0\n",
      "deck           688\n",
      "embark_town      2\n",
      "alive            0\n",
      "alone            0\n",
      "dtype: int64\n"
     ]
    }
   ],
   "source": [
    "cmis_col = titanic.apply(count_missing)\n",
    "print(cmis_col)"
   ]
  },
  {
   "cell_type": "code",
   "execution_count": 25,
   "metadata": {},
   "outputs": [],
   "source": [
    "# 누락값의 비율 계산 함수\n",
    "def prop_missing(vec):\n",
    "    num = count_missing(vec)\n",
    "    dem = vec.size\n",
    "    return num / dem\n",
    "\n",
    "# 누락값이 아닌 비율 계산 함수\n",
    "def prop_complete(vec):\n",
    "    return 1 - prop_missing(vec)"
   ]
  },
  {
   "cell_type": "code",
   "execution_count": 26,
   "metadata": {},
   "outputs": [
    {
     "name": "stdout",
     "output_type": "stream",
     "text": [
      "survived       0.000000\n",
      "pclass         0.000000\n",
      "sex            0.000000\n",
      "age            0.198653\n",
      "sibsp          0.000000\n",
      "parch          0.000000\n",
      "fare           0.000000\n",
      "embarked       0.002245\n",
      "class          0.000000\n",
      "who            0.000000\n",
      "adult_male     0.000000\n",
      "deck           0.772166\n",
      "embark_town    0.002245\n",
      "alive          0.000000\n",
      "alone          0.000000\n",
      "dtype: float64\n"
     ]
    }
   ],
   "source": [
    "pmis_col = titanic.apply(prop_missing)\n",
    "print(pmis_col)"
   ]
  },
  {
   "cell_type": "code",
   "execution_count": 28,
   "metadata": {},
   "outputs": [
    {
     "name": "stdout",
     "output_type": "stream",
     "text": [
      "survived       1.000000\n",
      "pclass         1.000000\n",
      "sex            1.000000\n",
      "age            0.801347\n",
      "sibsp          1.000000\n",
      "parch          1.000000\n",
      "fare           1.000000\n",
      "embarked       0.997755\n",
      "class          1.000000\n",
      "who            1.000000\n",
      "adult_male     1.000000\n",
      "deck           0.227834\n",
      "embark_town    0.997755\n",
      "alive          1.000000\n",
      "alone          1.000000\n",
      "dtype: float64\n"
     ]
    }
   ],
   "source": [
    "pcom_col = titanic.apply(prop_complete)\n",
    "print(pcom_col)"
   ]
  },
  {
   "cell_type": "markdown",
   "metadata": {},
   "source": [
    "# 데이터프레임의 누락값을 처리한 다음 apply 메서드 사용하기 - 행 방뱡"
   ]
  },
  {
   "cell_type": "code",
   "execution_count": 29,
   "metadata": {},
   "outputs": [
    {
     "name": "stdout",
     "output_type": "stream",
     "text": [
      "0    1\n",
      "1    0\n",
      "2    1\n",
      "3    0\n",
      "4    1\n",
      "dtype: int64\n",
      "0    0.066667\n",
      "1    0.000000\n",
      "2    0.066667\n",
      "3    0.000000\n",
      "4    0.066667\n",
      "dtype: float64\n",
      "0    0.933333\n",
      "1    1.000000\n",
      "2    0.933333\n",
      "3    1.000000\n",
      "4    0.933333\n",
      "dtype: float64\n"
     ]
    }
   ],
   "source": [
    "# 행 방향으로 함수 적용\n",
    "cmis_row = titanic.apply(count_missing, axis=1)\n",
    "pmis_row = titanic.apply(prop_missing, axis=1)\n",
    "pcom_row = titanic.apply(prop_complete, axis=1)\n",
    "\n",
    "print(cmis_row.head())\n",
    "print(pmis_row.head())\n",
    "print(pcom_row.head())"
   ]
  },
  {
   "cell_type": "code",
   "execution_count": 31,
   "metadata": {},
   "outputs": [
    {
     "name": "stdout",
     "output_type": "stream",
     "text": [
      "   survived  pclass     sex   age  sibsp  parch     fare embarked  class  \\\n",
      "0         0       3    male  22.0      1      0   7.2500        S  Third   \n",
      "1         1       1  female  38.0      1      0  71.2833        C  First   \n",
      "2         1       3  female  26.0      0      0   7.9250        S  Third   \n",
      "3         1       1  female  35.0      1      0  53.1000        S  First   \n",
      "4         0       3    male  35.0      0      0   8.0500        S  Third   \n",
      "\n",
      "     who  adult_male deck  embark_town alive  alone  num_missing  \n",
      "0    man        True  NaN  Southampton    no  False            1  \n",
      "1  woman       False    C    Cherbourg   yes  False            0  \n",
      "2  woman       False  NaN  Southampton   yes   True            1  \n",
      "3  woman       False    C  Southampton   yes  False            0  \n",
      "4    man        True  NaN  Southampton    no   True            1  \n",
      "     survived  pclass     sex  age  sibsp  parch     fare embarked   class  \\\n",
      "420         0       3    male  NaN      0      0   7.8958        C   Third   \n",
      "531         0       3    male  NaN      0      0   7.2292        C   Third   \n",
      "5           0       3    male  NaN      0      0   8.4583        Q   Third   \n",
      "428         0       3    male  NaN      0      0   7.7500        Q   Third   \n",
      "260         0       3    male  NaN      0      0   7.7500        Q   Third   \n",
      "36          1       3    male  NaN      0      0   7.2292        C   Third   \n",
      "410         0       3    male  NaN      0      0   7.8958        S   Third   \n",
      "727         1       3  female  NaN      0      0   7.7375        Q   Third   \n",
      "109         1       3  female  NaN      1      0  24.1500        Q   Third   \n",
      "466         0       2    male  NaN      0      0   0.0000        S  Second   \n",
      "\n",
      "       who  adult_male deck  embark_town alive  alone  num_missing  \n",
      "420    man        True  NaN    Cherbourg    no   True            2  \n",
      "531    man        True  NaN    Cherbourg    no   True            2  \n",
      "5      man        True  NaN   Queenstown    no   True            2  \n",
      "428    man        True  NaN   Queenstown    no   True            2  \n",
      "260    man        True  NaN   Queenstown    no   True            2  \n",
      "36     man        True  NaN    Cherbourg   yes   True            2  \n",
      "410    man        True  NaN  Southampton    no   True            2  \n",
      "727  woman       False  NaN   Queenstown   yes   True            2  \n",
      "109  woman       False  NaN   Queenstown   yes  False            2  \n",
      "466    man        True  NaN  Southampton    no   True            2  \n"
     ]
    }
   ],
   "source": [
    "# 누락값을 titanic 데이터프레임에 추가\n",
    "titanic['num_missing'] = titanic.apply(count_missing, axis=1)\n",
    "print(titanic.head())\n",
    "\n",
    "# 누락값이 2개 이상인 데이터 추출\n",
    "print(titanic.loc[titanic['num_missing'] > 1,:].sample(10))"
   ]
  }
 ],
 "metadata": {
  "kernelspec": {
   "display_name": "Python 3",
   "language": "python",
   "name": "python3"
  },
  "language_info": {
   "codemirror_mode": {
    "name": "ipython",
    "version": 3
   },
   "file_extension": ".py",
   "mimetype": "text/x-python",
   "name": "python",
   "nbconvert_exporter": "python",
   "pygments_lexer": "ipython3",
   "version": "3.6.4"
  }
 },
 "nbformat": 4,
 "nbformat_minor": 2
}
