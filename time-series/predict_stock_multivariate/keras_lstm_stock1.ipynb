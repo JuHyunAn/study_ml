{
 "cells": [
  {
   "cell_type": "code",
   "execution_count": 1,
   "metadata": {
    "colab": {
     "base_uri": "https://localhost:8080/",
     "height": 139
    },
    "colab_type": "code",
    "executionInfo": {
     "elapsed": 31409,
     "status": "ok",
     "timestamp": 1557829378794,
     "user": {
      "displayName": "한대희",
      "photoUrl": "",
      "userId": "17475105266749362233"
     },
     "user_tz": -540
    },
    "id": "kfFYr0j5sZQ7",
    "outputId": "24ae1849-e0ad-47ee-eef2-a77182de485a"
   },
   "outputs": [
    {
     "name": "stdout",
     "output_type": "stream",
     "text": [
      "Go to this URL in a browser: https://accounts.google.com/o/oauth2/auth?client_id=947318989803-6bn6qk8qdgf4n4g3pfee6491hc0brc4i.apps.googleusercontent.com&redirect_uri=urn%3Aietf%3Awg%3Aoauth%3A2.0%3Aoob&scope=email%20https%3A%2F%2Fwww.googleapis.com%2Fauth%2Fdocs.test%20https%3A%2F%2Fwww.googleapis.com%2Fauth%2Fdrive%20https%3A%2F%2Fwww.googleapis.com%2Fauth%2Fdrive.photos.readonly%20https%3A%2F%2Fwww.googleapis.com%2Fauth%2Fpeopleapi.readonly&response_type=code\n",
      "\n",
      "Enter your authorization code:\n",
      "··········\n",
      "Mounted at /content/gdrive\n",
      "/content/gdrive/My Drive/Colab Notebooks/00.mycampus/[DL-202]Data/day1\n"
     ]
    }
   ],
   "source": [
    "import os\n",
    "from google.colab import drive\n",
    "drive.mount('/content/gdrive', force_remount=True)\n",
    "FOLDER = '/content/gdrive/My Drive/Colab Notebooks/00.mycampus/[DL-202]Data/day1'\n",
    "os.chdir(FOLDER)\n",
    "print(os.getcwd())"
   ]
  },
  {
   "cell_type": "code",
   "execution_count": 1,
   "metadata": {
    "colab": {
     "base_uri": "https://localhost:8080/",
     "height": 34
    },
    "colab_type": "code",
    "executionInfo": {
     "elapsed": 32189,
     "status": "ok",
     "timestamp": 1556040976034,
     "user": {
      "displayName": "한대희",
      "photoUrl": "",
      "userId": "17475105266749362233"
     },
     "user_tz": -540
    },
    "id": "PL6hq6rusYd9",
    "outputId": "aceaeebf-a9e1-4b85-a1e9-3203a2c788bf"
   },
   "outputs": [
    {
     "name": "stderr",
     "output_type": "stream",
     "text": [
      "Using TensorFlow backend.\n"
     ]
    }
   ],
   "source": [
    "import numpy as np\n",
    "import pandas as pd\n",
    "from keras.models import Sequential\n",
    "from keras.layers import Dense, LSTM, Dropout\n",
    "from keras.utils import to_categorical\n",
    "import matplotlib.pyplot as plt\n",
    "import tensorflow as tf"
   ]
  },
  {
   "cell_type": "markdown",
   "metadata": {
    "colab_type": "text",
    "id": "CjBJA5-IsYeC"
   },
   "source": [
    "### LSTM 학습용을 위한 데이터 생성. window개념 포함.\n"
   ]
  },
  {
   "cell_type": "code",
   "execution_count": 2,
   "metadata": {
    "colab": {},
    "colab_type": "code",
    "id": "TU1HHSSgsYeD"
   },
   "outputs": [],
   "source": [
    "## LSTM 학습용을 위한 데이터 생성. window개념 포함.\n",
    "def getSeriesData(data, window_size, elementdim=1):\n",
    "  '''\n",
    "  window_size 만큼의 데이터로 다음 데이터를 예측하기 위한 학습데이터 생성\n",
    "  :param data: [1,2,3,4,5,6]\n",
    "  :param window_size: 3\n",
    "  :param elementdim: 1\n",
    "  :return: x=[[1,2,3], [2,3,4], [3,4,5]]\n",
    "  :return: y=[      4,       5,       6]\n",
    "  '''\n",
    "  n_pairs = len(data) - window_size # (x,y) pair 개수\n",
    "  xlist = [data[i:i+window_size] for i in range(n_pairs)]\n",
    "  ylist = [data[i+window_size] for i in range(n_pairs)]\n",
    "  x = np.array(xlist, dtype=np.float32)\n",
    "  y = np.array(ylist, dtype=np.float32)\n",
    "  return x, y"
   ]
  },
  {
   "cell_type": "code",
   "execution_count": 3,
   "metadata": {
    "colab": {
     "base_uri": "https://localhost:8080/",
     "height": 84
    },
    "colab_type": "code",
    "executionInfo": {
     "elapsed": 1397,
     "status": "ok",
     "timestamp": 1556040981819,
     "user": {
      "displayName": "한대희",
      "photoUrl": "",
      "userId": "17475105266749362233"
     },
     "user_tz": -540
    },
    "id": "6p6PhTn-sYeF",
    "outputId": "75e7d27b-5b81-4e23-daea-f688712cd930"
   },
   "outputs": [
    {
     "name": "stdout",
     "output_type": "stream",
     "text": [
      "[[1. 2. 3.]\n",
      " [2. 3. 4.]\n",
      " [3. 4. 5.]]\n",
      "[4. 5. 6.]\n"
     ]
    }
   ],
   "source": [
    "x, y = getSeriesData([1,2,3,4,5,6], 3)\n",
    "print(x)\n",
    "print(y)"
   ]
  },
  {
   "cell_type": "code",
   "execution_count": 4,
   "metadata": {
    "colab": {},
    "colab_type": "code",
    "id": "qiPo-6iJsYeH"
   },
   "outputs": [],
   "source": [
    "# 학습용, 검증용, 테스트용 분할하기\n",
    "def split_data(data, val_size=0.15, test_size=0.15):\n",
    "  \"\"\"\n",
    "  splits data to training, validation and testing parts\n",
    "  \"\"\"\n",
    "  ntest = int(round(len(data) * (1 - test_size)))\n",
    "  nval = int(round(ntest * (1 - val_size)))\n",
    "  \n",
    "  train, validation, test = np.split(data, [nval, ntest])\n",
    "  \n",
    "  return train, validation, test"
   ]
  },
  {
   "cell_type": "markdown",
   "metadata": {
    "colab_type": "text",
    "id": "h-Lcx05DsYeJ"
   },
   "source": [
    "### 주가 데이터 csv파일 읽기"
   ]
  },
  {
   "cell_type": "code",
   "execution_count": 5,
   "metadata": {
    "colab": {},
    "colab_type": "code",
    "id": "6uVMFHKnsYeK"
   },
   "outputs": [],
   "source": [
    "df = pd.read_csv('apple.csv', header=0)"
   ]
  },
  {
   "cell_type": "code",
   "execution_count": 6,
   "metadata": {
    "colab": {
     "base_uri": "https://localhost:8080/",
     "height": 639
    },
    "colab_type": "code",
    "executionInfo": {
     "elapsed": 2103,
     "status": "ok",
     "timestamp": 1556040990625,
     "user": {
      "displayName": "한대희",
      "photoUrl": "",
      "userId": "17475105266749362233"
     },
     "user_tz": -540
    },
    "id": "vq9brxFlsYeL",
    "outputId": "864a1240-877c-4519-845b-93a0b7d680fb"
   },
   "outputs": [
    {
     "data": {
      "text/html": [
       "<div>\n",
       "<style scoped>\n",
       "    .dataframe tbody tr th:only-of-type {\n",
       "        vertical-align: middle;\n",
       "    }\n",
       "\n",
       "    .dataframe tbody tr th {\n",
       "        vertical-align: top;\n",
       "    }\n",
       "\n",
       "    .dataframe thead th {\n",
       "        text-align: right;\n",
       "    }\n",
       "</style>\n",
       "<table border=\"1\" class=\"dataframe\">\n",
       "  <thead>\n",
       "    <tr style=\"text-align: right;\">\n",
       "      <th></th>\n",
       "      <th>Date</th>\n",
       "      <th>Open</th>\n",
       "      <th>High</th>\n",
       "      <th>Low</th>\n",
       "      <th>Close</th>\n",
       "      <th>Adj Close</th>\n",
       "      <th>Volume</th>\n",
       "    </tr>\n",
       "  </thead>\n",
       "  <tbody>\n",
       "    <tr>\n",
       "      <th>0</th>\n",
       "      <td>2010-01-04</td>\n",
       "      <td>30.49</td>\n",
       "      <td>30.64</td>\n",
       "      <td>30.34</td>\n",
       "      <td>30.57</td>\n",
       "      <td>27.41</td>\n",
       "      <td>123432400.0</td>\n",
       "    </tr>\n",
       "    <tr>\n",
       "      <th>1</th>\n",
       "      <td>2010-01-05</td>\n",
       "      <td>30.66</td>\n",
       "      <td>30.80</td>\n",
       "      <td>30.46</td>\n",
       "      <td>30.63</td>\n",
       "      <td>27.45</td>\n",
       "      <td>150476200.0</td>\n",
       "    </tr>\n",
       "    <tr>\n",
       "      <th>2</th>\n",
       "      <td>2010-01-06</td>\n",
       "      <td>30.63</td>\n",
       "      <td>30.75</td>\n",
       "      <td>30.11</td>\n",
       "      <td>30.14</td>\n",
       "      <td>27.02</td>\n",
       "      <td>138040000.0</td>\n",
       "    </tr>\n",
       "    <tr>\n",
       "      <th>3</th>\n",
       "      <td>2010-01-07</td>\n",
       "      <td>30.25</td>\n",
       "      <td>30.29</td>\n",
       "      <td>29.86</td>\n",
       "      <td>30.08</td>\n",
       "      <td>26.97</td>\n",
       "      <td>119282800.0</td>\n",
       "    </tr>\n",
       "    <tr>\n",
       "      <th>4</th>\n",
       "      <td>2010-01-08</td>\n",
       "      <td>30.04</td>\n",
       "      <td>30.29</td>\n",
       "      <td>29.87</td>\n",
       "      <td>30.28</td>\n",
       "      <td>27.15</td>\n",
       "      <td>111902700.0</td>\n",
       "    </tr>\n",
       "    <tr>\n",
       "      <th>5</th>\n",
       "      <td>2010-01-11</td>\n",
       "      <td>30.40</td>\n",
       "      <td>30.43</td>\n",
       "      <td>29.78</td>\n",
       "      <td>30.02</td>\n",
       "      <td>26.91</td>\n",
       "      <td>115557400.0</td>\n",
       "    </tr>\n",
       "    <tr>\n",
       "      <th>6</th>\n",
       "      <td>2010-01-12</td>\n",
       "      <td>29.88</td>\n",
       "      <td>29.97</td>\n",
       "      <td>29.49</td>\n",
       "      <td>29.67</td>\n",
       "      <td>26.60</td>\n",
       "      <td>148614900.0</td>\n",
       "    </tr>\n",
       "    <tr>\n",
       "      <th>7</th>\n",
       "      <td>2010-01-13</td>\n",
       "      <td>29.70</td>\n",
       "      <td>30.13</td>\n",
       "      <td>29.16</td>\n",
       "      <td>30.09</td>\n",
       "      <td>26.98</td>\n",
       "      <td>151473000.0</td>\n",
       "    </tr>\n",
       "    <tr>\n",
       "      <th>8</th>\n",
       "      <td>2010-01-14</td>\n",
       "      <td>30.02</td>\n",
       "      <td>30.07</td>\n",
       "      <td>29.86</td>\n",
       "      <td>29.92</td>\n",
       "      <td>26.82</td>\n",
       "      <td>108223500.0</td>\n",
       "    </tr>\n",
       "    <tr>\n",
       "      <th>9</th>\n",
       "      <td>2010-01-15</td>\n",
       "      <td>30.13</td>\n",
       "      <td>30.23</td>\n",
       "      <td>29.41</td>\n",
       "      <td>29.42</td>\n",
       "      <td>26.37</td>\n",
       "      <td>148516900.0</td>\n",
       "    </tr>\n",
       "    <tr>\n",
       "      <th>10</th>\n",
       "      <td>2010-01-19</td>\n",
       "      <td>29.76</td>\n",
       "      <td>30.74</td>\n",
       "      <td>29.61</td>\n",
       "      <td>30.72</td>\n",
       "      <td>27.54</td>\n",
       "      <td>182501900.0</td>\n",
       "    </tr>\n",
       "    <tr>\n",
       "      <th>11</th>\n",
       "      <td>2010-01-20</td>\n",
       "      <td>30.70</td>\n",
       "      <td>30.79</td>\n",
       "      <td>29.93</td>\n",
       "      <td>30.25</td>\n",
       "      <td>27.11</td>\n",
       "      <td>153038200.0</td>\n",
       "    </tr>\n",
       "    <tr>\n",
       "      <th>12</th>\n",
       "      <td>2010-01-21</td>\n",
       "      <td>30.30</td>\n",
       "      <td>30.47</td>\n",
       "      <td>29.60</td>\n",
       "      <td>29.72</td>\n",
       "      <td>26.65</td>\n",
       "      <td>152038600.0</td>\n",
       "    </tr>\n",
       "    <tr>\n",
       "      <th>13</th>\n",
       "      <td>2010-01-22</td>\n",
       "      <td>29.54</td>\n",
       "      <td>29.64</td>\n",
       "      <td>28.17</td>\n",
       "      <td>28.25</td>\n",
       "      <td>25.32</td>\n",
       "      <td>220441900.0</td>\n",
       "    </tr>\n",
       "    <tr>\n",
       "      <th>14</th>\n",
       "      <td>2010-01-25</td>\n",
       "      <td>28.93</td>\n",
       "      <td>29.24</td>\n",
       "      <td>28.60</td>\n",
       "      <td>29.01</td>\n",
       "      <td>26.01</td>\n",
       "      <td>266424900.0</td>\n",
       "    </tr>\n",
       "    <tr>\n",
       "      <th>15</th>\n",
       "      <td>2010-01-26</td>\n",
       "      <td>29.42</td>\n",
       "      <td>30.53</td>\n",
       "      <td>28.94</td>\n",
       "      <td>29.42</td>\n",
       "      <td>26.37</td>\n",
       "      <td>466777500.0</td>\n",
       "    </tr>\n",
       "    <tr>\n",
       "      <th>16</th>\n",
       "      <td>2010-01-27</td>\n",
       "      <td>29.55</td>\n",
       "      <td>30.08</td>\n",
       "      <td>28.50</td>\n",
       "      <td>29.70</td>\n",
       "      <td>26.62</td>\n",
       "      <td>430642100.0</td>\n",
       "    </tr>\n",
       "    <tr>\n",
       "      <th>17</th>\n",
       "      <td>2010-01-28</td>\n",
       "      <td>29.28</td>\n",
       "      <td>29.36</td>\n",
       "      <td>28.39</td>\n",
       "      <td>28.47</td>\n",
       "      <td>25.52</td>\n",
       "      <td>293375600.0</td>\n",
       "    </tr>\n",
       "    <tr>\n",
       "      <th>18</th>\n",
       "      <td>2010-01-29</td>\n",
       "      <td>28.73</td>\n",
       "      <td>28.89</td>\n",
       "      <td>27.18</td>\n",
       "      <td>27.44</td>\n",
       "      <td>24.60</td>\n",
       "      <td>311488100.0</td>\n",
       "    </tr>\n",
       "    <tr>\n",
       "      <th>19</th>\n",
       "      <td>2010-02-01</td>\n",
       "      <td>27.48</td>\n",
       "      <td>28.00</td>\n",
       "      <td>27.33</td>\n",
       "      <td>27.82</td>\n",
       "      <td>24.94</td>\n",
       "      <td>187469100.0</td>\n",
       "    </tr>\n",
       "  </tbody>\n",
       "</table>\n",
       "</div>"
      ],
      "text/plain": [
       "          Date   Open   High    Low  Close  Adj Close       Volume\n",
       "0   2010-01-04  30.49  30.64  30.34  30.57      27.41  123432400.0\n",
       "1   2010-01-05  30.66  30.80  30.46  30.63      27.45  150476200.0\n",
       "2   2010-01-06  30.63  30.75  30.11  30.14      27.02  138040000.0\n",
       "3   2010-01-07  30.25  30.29  29.86  30.08      26.97  119282800.0\n",
       "4   2010-01-08  30.04  30.29  29.87  30.28      27.15  111902700.0\n",
       "5   2010-01-11  30.40  30.43  29.78  30.02      26.91  115557400.0\n",
       "6   2010-01-12  29.88  29.97  29.49  29.67      26.60  148614900.0\n",
       "7   2010-01-13  29.70  30.13  29.16  30.09      26.98  151473000.0\n",
       "8   2010-01-14  30.02  30.07  29.86  29.92      26.82  108223500.0\n",
       "9   2010-01-15  30.13  30.23  29.41  29.42      26.37  148516900.0\n",
       "10  2010-01-19  29.76  30.74  29.61  30.72      27.54  182501900.0\n",
       "11  2010-01-20  30.70  30.79  29.93  30.25      27.11  153038200.0\n",
       "12  2010-01-21  30.30  30.47  29.60  29.72      26.65  152038600.0\n",
       "13  2010-01-22  29.54  29.64  28.17  28.25      25.32  220441900.0\n",
       "14  2010-01-25  28.93  29.24  28.60  29.01      26.01  266424900.0\n",
       "15  2010-01-26  29.42  30.53  28.94  29.42      26.37  466777500.0\n",
       "16  2010-01-27  29.55  30.08  28.50  29.70      26.62  430642100.0\n",
       "17  2010-01-28  29.28  29.36  28.39  28.47      25.52  293375600.0\n",
       "18  2010-01-29  28.73  28.89  27.18  27.44      24.60  311488100.0\n",
       "19  2010-02-01  27.48  28.00  27.33  27.82      24.94  187469100.0"
      ]
     },
     "execution_count": 6,
     "metadata": {},
     "output_type": "execute_result"
    }
   ],
   "source": [
    "#print(df)\n",
    "df[:20] # jupyter에서는 print()없이 df라고만 쳐도 이쁘게 출력된다."
   ]
  },
  {
   "cell_type": "markdown",
   "metadata": {
    "colab_type": "text",
    "id": "n9LmAuQdsYeO"
   },
   "source": [
    "### pandas를 이용한 데이터 처리: scaling"
   ]
  },
  {
   "cell_type": "code",
   "execution_count": 7,
   "metadata": {
    "colab": {
     "base_uri": "https://localhost:8080/",
     "height": 67
    },
    "colab_type": "code",
    "executionInfo": {
     "elapsed": 1331,
     "status": "ok",
     "timestamp": 1556040994092,
     "user": {
      "displayName": "한대희",
      "photoUrl": "",
      "userId": "17475105266749362233"
     },
     "user_tz": -540
    },
    "id": "-ZZaIW3WsYeP",
    "outputId": "46ef1430-bdd1-477f-9088-cbca20b67988"
   },
   "outputs": [
    {
     "name": "stdout",
     "output_type": "stream",
     "text": [
      "df.columns :\n",
      " ['Date', 'Open', 'High', 'Low', 'Close', 'Adj Close', 'Volume']\n",
      "MAX_PRICE :  177.2\n"
     ]
    }
   ],
   "source": [
    "print('df.columns :\\n', list(df.columns))\n",
    "MAX_PRICE = df.High.max()\n",
    "print('MAX_PRICE : ', MAX_PRICE)\n",
    "df.High = df.High / MAX_PRICE\n"
   ]
  },
  {
   "cell_type": "code",
   "execution_count": 8,
   "metadata": {
    "colab": {
     "base_uri": "https://localhost:8080/",
     "height": 343
    },
    "colab_type": "code",
    "executionInfo": {
     "elapsed": 628,
     "status": "ok",
     "timestamp": 1556040995219,
     "user": {
      "displayName": "한대희",
      "photoUrl": "",
      "userId": "17475105266749362233"
     },
     "user_tz": -540
    },
    "id": "uhZNZP2QsYeR",
    "outputId": "eb9570f4-2d5f-41fd-d9a0-88ecc8b73746"
   },
   "outputs": [
    {
     "data": {
      "text/html": [
       "<div>\n",
       "<style scoped>\n",
       "    .dataframe tbody tr th:only-of-type {\n",
       "        vertical-align: middle;\n",
       "    }\n",
       "\n",
       "    .dataframe tbody tr th {\n",
       "        vertical-align: top;\n",
       "    }\n",
       "\n",
       "    .dataframe thead th {\n",
       "        text-align: right;\n",
       "    }\n",
       "</style>\n",
       "<table border=\"1\" class=\"dataframe\">\n",
       "  <thead>\n",
       "    <tr style=\"text-align: right;\">\n",
       "      <th></th>\n",
       "      <th>Date</th>\n",
       "      <th>Open</th>\n",
       "      <th>High</th>\n",
       "      <th>Low</th>\n",
       "      <th>Close</th>\n",
       "      <th>Adj Close</th>\n",
       "      <th>Volume</th>\n",
       "    </tr>\n",
       "  </thead>\n",
       "  <tbody>\n",
       "    <tr>\n",
       "      <th>0</th>\n",
       "      <td>2010-01-04</td>\n",
       "      <td>30.49</td>\n",
       "      <td>0.172912</td>\n",
       "      <td>30.34</td>\n",
       "      <td>30.57</td>\n",
       "      <td>27.41</td>\n",
       "      <td>123432400.0</td>\n",
       "    </tr>\n",
       "    <tr>\n",
       "      <th>1</th>\n",
       "      <td>2010-01-05</td>\n",
       "      <td>30.66</td>\n",
       "      <td>0.173815</td>\n",
       "      <td>30.46</td>\n",
       "      <td>30.63</td>\n",
       "      <td>27.45</td>\n",
       "      <td>150476200.0</td>\n",
       "    </tr>\n",
       "    <tr>\n",
       "      <th>2</th>\n",
       "      <td>2010-01-06</td>\n",
       "      <td>30.63</td>\n",
       "      <td>0.173533</td>\n",
       "      <td>30.11</td>\n",
       "      <td>30.14</td>\n",
       "      <td>27.02</td>\n",
       "      <td>138040000.0</td>\n",
       "    </tr>\n",
       "    <tr>\n",
       "      <th>3</th>\n",
       "      <td>2010-01-07</td>\n",
       "      <td>30.25</td>\n",
       "      <td>0.170937</td>\n",
       "      <td>29.86</td>\n",
       "      <td>30.08</td>\n",
       "      <td>26.97</td>\n",
       "      <td>119282800.0</td>\n",
       "    </tr>\n",
       "    <tr>\n",
       "      <th>4</th>\n",
       "      <td>2010-01-08</td>\n",
       "      <td>30.04</td>\n",
       "      <td>0.170937</td>\n",
       "      <td>29.87</td>\n",
       "      <td>30.28</td>\n",
       "      <td>27.15</td>\n",
       "      <td>111902700.0</td>\n",
       "    </tr>\n",
       "    <tr>\n",
       "      <th>5</th>\n",
       "      <td>2010-01-11</td>\n",
       "      <td>30.40</td>\n",
       "      <td>0.171727</td>\n",
       "      <td>29.78</td>\n",
       "      <td>30.02</td>\n",
       "      <td>26.91</td>\n",
       "      <td>115557400.0</td>\n",
       "    </tr>\n",
       "    <tr>\n",
       "      <th>6</th>\n",
       "      <td>2010-01-12</td>\n",
       "      <td>29.88</td>\n",
       "      <td>0.169131</td>\n",
       "      <td>29.49</td>\n",
       "      <td>29.67</td>\n",
       "      <td>26.60</td>\n",
       "      <td>148614900.0</td>\n",
       "    </tr>\n",
       "    <tr>\n",
       "      <th>7</th>\n",
       "      <td>2010-01-13</td>\n",
       "      <td>29.70</td>\n",
       "      <td>0.170034</td>\n",
       "      <td>29.16</td>\n",
       "      <td>30.09</td>\n",
       "      <td>26.98</td>\n",
       "      <td>151473000.0</td>\n",
       "    </tr>\n",
       "    <tr>\n",
       "      <th>8</th>\n",
       "      <td>2010-01-14</td>\n",
       "      <td>30.02</td>\n",
       "      <td>0.169695</td>\n",
       "      <td>29.86</td>\n",
       "      <td>29.92</td>\n",
       "      <td>26.82</td>\n",
       "      <td>108223500.0</td>\n",
       "    </tr>\n",
       "    <tr>\n",
       "      <th>9</th>\n",
       "      <td>2010-01-15</td>\n",
       "      <td>30.13</td>\n",
       "      <td>0.170598</td>\n",
       "      <td>29.41</td>\n",
       "      <td>29.42</td>\n",
       "      <td>26.37</td>\n",
       "      <td>148516900.0</td>\n",
       "    </tr>\n",
       "  </tbody>\n",
       "</table>\n",
       "</div>"
      ],
      "text/plain": [
       "         Date   Open      High    Low  Close  Adj Close       Volume\n",
       "0  2010-01-04  30.49  0.172912  30.34  30.57      27.41  123432400.0\n",
       "1  2010-01-05  30.66  0.173815  30.46  30.63      27.45  150476200.0\n",
       "2  2010-01-06  30.63  0.173533  30.11  30.14      27.02  138040000.0\n",
       "3  2010-01-07  30.25  0.170937  29.86  30.08      26.97  119282800.0\n",
       "4  2010-01-08  30.04  0.170937  29.87  30.28      27.15  111902700.0\n",
       "5  2010-01-11  30.40  0.171727  29.78  30.02      26.91  115557400.0\n",
       "6  2010-01-12  29.88  0.169131  29.49  29.67      26.60  148614900.0\n",
       "7  2010-01-13  29.70  0.170034  29.16  30.09      26.98  151473000.0\n",
       "8  2010-01-14  30.02  0.169695  29.86  29.92      26.82  108223500.0\n",
       "9  2010-01-15  30.13  0.170598  29.41  29.42      26.37  148516900.0"
      ]
     },
     "execution_count": 8,
     "metadata": {},
     "output_type": "execute_result"
    }
   ],
   "source": [
    "df[:10]"
   ]
  },
  {
   "cell_type": "markdown",
   "metadata": {
    "colab_type": "text",
    "id": "b5iLtGVLsYeU"
   },
   "source": [
    "### train, validation, test 데이터 준비\n",
    "### LSTM 용으로 series 데이터 준비"
   ]
  },
  {
   "cell_type": "code",
   "execution_count": 9,
   "metadata": {
    "colab": {
     "base_uri": "https://localhost:8080/",
     "height": 87
    },
    "colab_type": "code",
    "executionInfo": {
     "elapsed": 922,
     "status": "ok",
     "timestamp": 1556040997502,
     "user": {
      "displayName": "한대희",
      "photoUrl": "",
      "userId": "17475105266749362233"
     },
     "user_tz": -540
    },
    "id": "xslmMa9vsYeV",
    "outputId": "9ec83fef-c1eb-4c43-e2b9-fccc0d571a70"
   },
   "outputs": [
    {
     "name": "stdout",
     "output_type": "stream",
     "text": [
      "xy.shape (2021, 1)\n"
     ]
    },
    {
     "name": "stderr",
     "output_type": "stream",
     "text": [
      "C:\\Miniconda3\\lib\\site-packages\\ipykernel_launcher.py:2: FutureWarning: Method .as_matrix will be removed in a future version. Use .values instead.\n",
      "  \n"
     ]
    }
   ],
   "source": [
    "df2 = df[df.Open != 0][['High']]\n",
    "xy = df2.as_matrix() # numpy 데이터\n",
    "print('xy.shape', xy.shape)"
   ]
  },
  {
   "cell_type": "code",
   "execution_count": 10,
   "metadata": {
    "colab": {
     "base_uri": "https://localhost:8080/",
     "height": 134
    },
    "colab_type": "code",
    "executionInfo": {
     "elapsed": 929,
     "status": "ok",
     "timestamp": 1556040998856,
     "user": {
      "displayName": "한대희",
      "photoUrl": "",
      "userId": "17475105266749362233"
     },
     "user_tz": -540
    },
    "id": "3PVAdJ8wsYeY",
    "outputId": "b8ef166c-09a5-4ec2-bbd7-2003b816ff79"
   },
   "outputs": [
    {
     "name": "stdout",
     "output_type": "stream",
     "text": [
      "TRAIN (1460, 1)\n",
      "VALID (258, 1)\n",
      "TEST (303, 1)\n",
      "TRAIN X (1430, 30, 1)\n",
      "TRAIN Y (1430, 1)\n",
      "TEST X (273, 30, 1)\n",
      "TEST Y (273, 1)\n"
     ]
    }
   ],
   "source": [
    "train, validation, test = split_data(xy)\n",
    "WINDOWSIZE = 30\n",
    "train_x, train_y = getSeriesData(train, WINDOWSIZE, elementdim=1)\n",
    "valid_x, valid_y = getSeriesData(validation, WINDOWSIZE, elementdim=1)\n",
    "test_x, test_y = getSeriesData(test, WINDOWSIZE, elementdim=1)\n",
    "\n",
    "print('TRAIN', train.shape)\n",
    "print('VALID', validation.shape)\n",
    "print('TEST', test.shape)\n",
    "print('TRAIN X', train_x.shape)\n",
    "print('TRAIN Y', train_y.shape)\n",
    "print('TEST X', test_x.shape)\n",
    "print('TEST Y', test_y.shape)"
   ]
  },
  {
   "cell_type": "markdown",
   "metadata": {
    "colab_type": "text",
    "id": "LlBIn47LsYea"
   },
   "source": [
    "### LSTM NN 구성 정의"
   ]
  },
  {
   "cell_type": "code",
   "execution_count": null,
   "metadata": {
    "colab": {
     "base_uri": "https://localhost:8080/",
     "height": 138
    },
    "colab_type": "code",
    "executionInfo": {
     "elapsed": 1382,
     "status": "ok",
     "timestamp": 1556041001033,
     "user": {
      "displayName": "한대희",
      "photoUrl": "",
      "userId": "17475105266749362233"
     },
     "user_tz": -540
    },
    "id": "vvIq0rDrsYea",
    "outputId": "82eb57e9-e545-4905-8655-b64ec1986199"
   },
   "outputs": [
    {
     "name": "stdout",
     "output_type": "stream",
     "text": [
      "WARNING:tensorflow:From /usr/local/lib/python3.6/dist-packages/tensorflow/python/framework/op_def_library.py:263: colocate_with (from tensorflow.python.framework.ops) is deprecated and will be removed in a future version.\n",
      "Instructions for updating:\n",
      "Colocations handled automatically by placer.\n",
      "WARNING:tensorflow:From /usr/local/lib/python3.6/dist-packages/keras/backend/tensorflow_backend.py:3445: calling dropout (from tensorflow.python.ops.nn_ops) with keep_prob is deprecated and will be removed in a future version.\n",
      "Instructions for updating:\n",
      "Please use `rate` instead of `keep_prob`. Rate should be set to `rate = 1 - keep_prob`.\n"
     ]
    }
   ],
   "source": [
    "# 모델 구성하기\n",
    "model = Sequential()\n",
    "hidden_nodes = 60\n",
    "model.add(LSTM(hidden_nodes, input_shape=(WINDOWSIZE, 1)))\n",
    "model.add(Dropout(0.3))\n",
    "model.add(Dense(1))\n",
    "model.compile(loss='mean_squared_error', optimizer='adam', metrics=['MSE'])"
   ]
  },
  {
   "cell_type": "code",
   "execution_count": null,
   "metadata": {
    "colab": {
     "base_uri": "https://localhost:8080/",
     "height": 235
    },
    "colab_type": "code",
    "executionInfo": {
     "elapsed": 1492,
     "status": "ok",
     "timestamp": 1556041003816,
     "user": {
      "displayName": "한대희",
      "photoUrl": "",
      "userId": "17475105266749362233"
     },
     "user_tz": -540
    },
    "id": "Asj80n80REqT",
    "outputId": "cce81978-f913-47cb-cca2-56ac456d01ba"
   },
   "outputs": [
    {
     "name": "stdout",
     "output_type": "stream",
     "text": [
      "_________________________________________________________________\n",
      "Layer (type)                 Output Shape              Param #   \n",
      "=================================================================\n",
      "lstm_1 (LSTM)                (None, 60)                14880     \n",
      "_________________________________________________________________\n",
      "dropout_1 (Dropout)          (None, 60)                0         \n",
      "_________________________________________________________________\n",
      "dense_1 (Dense)              (None, 1)                 61        \n",
      "=================================================================\n",
      "Total params: 14,941\n",
      "Trainable params: 14,941\n",
      "Non-trainable params: 0\n",
      "_________________________________________________________________\n"
     ]
    }
   ],
   "source": [
    "model.summary()"
   ]
  },
  {
   "cell_type": "code",
   "execution_count": null,
   "metadata": {
    "colab": {
     "base_uri": "https://localhost:8080/",
     "height": 67
    },
    "colab_type": "code",
    "executionInfo": {
     "elapsed": 1166,
     "status": "ok",
     "timestamp": 1556041162513,
     "user": {
      "displayName": "한대희",
      "photoUrl": "",
      "userId": "17475105266749362233"
     },
     "user_tz": -540
    },
    "id": "QZHurCxZR9SO",
    "outputId": "2287b911-a1f7-4ea7-aef4-5c92db57084f"
   },
   "outputs": [
    {
     "name": "stdout",
     "output_type": "stream",
     "text": [
      "IN (None, 30, 1) OUT (None, 60)\n",
      "IN (None, 60) OUT (None, 60)\n",
      "IN (None, 60) OUT (None, 1)\n"
     ]
    }
   ],
   "source": [
    "for layer in model.layers:\n",
    "  print('IN', layer.input_shape, 'OUT', layer.output_shape)"
   ]
  },
  {
   "cell_type": "markdown",
   "metadata": {
    "colab": {
     "base_uri": "https://localhost:8080/",
     "height": 1112
    },
    "colab_type": "code",
    "executionInfo": {
     "elapsed": 51269,
     "status": "ok",
     "timestamp": 1556025487037,
     "user": {
      "displayName": "한대희",
      "photoUrl": "",
      "userId": "17475105266749362233"
     },
     "user_tz": -540
    },
    "id": "_8Q7Sx6MsYec",
    "outputId": "1807fafa-3693-4a6c-e16d-a64ea015ce58"
   },
   "source": [
    "### 모델 학습하기\n",
    "hist = model.fit(train_x, train_y, \n",
    "                 epochs=30, \n",
    "                 shuffle=True,\n",
    "                 validation_data = (valid_x, valid_y),\n",
    "                 verbose=1)"
   ]
  },
  {
   "cell_type": "code",
   "execution_count": null,
   "metadata": {
    "colab": {
     "base_uri": "https://localhost:8080/",
     "height": 34
    },
    "colab_type": "code",
    "executionInfo": {
     "elapsed": 51262,
     "status": "ok",
     "timestamp": 1556025487039,
     "user": {
      "displayName": "한대희",
      "photoUrl": "",
      "userId": "17475105266749362233"
     },
     "user_tz": -540
    },
    "id": "Rzl5tEAXsYef",
    "outputId": "c4ff5fcc-9434-4940-a0cf-de66f8250fbb"
   },
   "outputs": [
    {
     "name": "stdout",
     "output_type": "stream",
     "text": [
      "273/273 [==============================] - 0s 155us/step\n"
     ]
    }
   ],
   "source": [
    "scores = model.evaluate(test_x, test_y, verbose=1)"
   ]
  },
  {
   "cell_type": "code",
   "execution_count": null,
   "metadata": {
    "colab": {
     "base_uri": "https://localhost:8080/",
     "height": 34
    },
    "colab_type": "code",
    "executionInfo": {
     "elapsed": 51256,
     "status": "ok",
     "timestamp": 1556025487040,
     "user": {
      "displayName": "한대희",
      "photoUrl": "",
      "userId": "17475105266749362233"
     },
     "user_tz": -540
    },
    "id": "7EmuciQwsYej",
    "outputId": "a637e715-54f4-4eff-d8fd-5083b1c96037"
   },
   "outputs": [
    {
     "name": "stdout",
     "output_type": "stream",
     "text": [
      "[0.0007748172538279941, 0.0007748172538279941]\n"
     ]
    }
   ],
   "source": [
    "print(scores)"
   ]
  },
  {
   "cell_type": "code",
   "execution_count": null,
   "metadata": {
    "colab": {
     "base_uri": "https://localhost:8080/",
     "height": 857
    },
    "colab_type": "code",
    "executionInfo": {
     "elapsed": 881,
     "status": "ok",
     "timestamp": 1556025570926,
     "user": {
      "displayName": "한대희",
      "photoUrl": "",
      "userId": "17475105266749362233"
     },
     "user_tz": -540
    },
    "id": "3kiqpH_PsYeo",
    "outputId": "99f4a4ef-7d1f-454d-9fbe-49624a0f203e"
   },
   "outputs": [
    {
     "name": "stdout",
     "output_type": "stream",
     "text": [
      "115.0 109.6 4.74%\n",
      "115.9 110.0 5.10%\n",
      "116.2 110.6 4.80%\n",
      "116.7 111.3 4.62%\n",
      "116.5 112.1 3.78%\n",
      "117.4 112.8 3.90%\n",
      "117.5 113.5 3.39%\n",
      "117.4 114.2 2.76%\n",
      "116.5 114.7 1.55%\n",
      "116.5 115.1 1.25%\n",
      "117.8 115.3 2.15%\n",
      "118.0 115.5 2.16%\n",
      "117.1 115.7 1.24%\n",
      "117.2 115.7 1.25%\n",
      "116.3 115.7 0.51%\n",
      "116.5 115.6 0.77%\n",
      "116.9 115.4 1.22%\n",
      "118.2 115.3 2.45%\n",
      "119.4 115.2 3.53%\n",
      "119.4 115.3 3.38%\n",
      "119.9 115.6 3.63%\n",
      "119.3 115.9 2.84%\n",
      "119.6 116.2 2.83%\n",
      "120.2 116.6 3.06%\n",
      "120.5 116.9 2.98%\n",
      "120.1 117.3 2.35%\n",
      "120.5 117.6 2.40%\n",
      "120.8 117.8 2.47%\n",
      "120.1 118.1 1.68%\n",
      "122.1 118.2 3.16%\n",
      "122.4 118.5 3.22%\n",
      "122.3 118.8 2.89%\n",
      "121.6 119.1 2.06%\n",
      "121.4 119.4 1.67%\n",
      "130.5 119.5 8.42%\n",
      "129.4 120.4 6.95%\n",
      "129.2 121.5 5.95%\n",
      "130.5 122.7 5.98%\n",
      "132.1 124.0 6.14%\n",
      "132.2 125.3 5.20%\n",
      "132.4 126.7 4.37%\n",
      "132.9 127.9 3.82%\n",
      "133.8 128.9 3.65%\n",
      "135.1 129.9 3.85%\n",
      "136.3 130.8 4.00%\n",
      "135.9 131.7 3.07%\n",
      "135.8 132.5 2.45%\n",
      "136.8 133.1 2.66%\n",
      "137.1 133.7 2.52%\n",
      "137.5 134.1 2.44%\n"
     ]
    }
   ],
   "source": [
    "test_y2 = model.predict(test_x)\n",
    "#print(test_y[:10, 2])\n",
    "#print(test_y2[:10])\n",
    "for y, y2 in zip(test_y[:50], test_y2[:50]):\n",
    "    y = y*MAX_PRICE\n",
    "    y2 = y2*MAX_PRICE\n",
    "    print('%.1f %.1f %.2f%%' % (y, y2, abs(y-y2)/y*100))"
   ]
  },
  {
   "cell_type": "markdown",
   "metadata": {
    "colab_type": "text",
    "id": "vVuJ2lu9sYeq"
   },
   "source": [
    "### scale된 상태의 수치로 그래프"
   ]
  },
  {
   "cell_type": "code",
   "execution_count": null,
   "metadata": {
    "colab": {},
    "colab_type": "code",
    "id": "N3J0T-57sYer"
   },
   "outputs": [],
   "source": [
    "fig, ax = plt.subplots()\n",
    "ax.plot(test_y, label='actual') # 고가\n",
    "ax.plot(test_y2, label='nn')\n",
    "plt.legend()\n",
    "plt.show()"
   ]
  },
  {
   "cell_type": "markdown",
   "metadata": {
    "colab_type": "text",
    "id": "4y5cTXfvsYet"
   },
   "source": [
    "### 원래의 수치로 변환 후 그래프"
   ]
  },
  {
   "cell_type": "code",
   "execution_count": null,
   "metadata": {
    "colab": {},
    "colab_type": "code",
    "id": "zl8KjxlQsYeu"
   },
   "outputs": [],
   "source": [
    "fig, ax = plt.subplots()\n",
    "ax.plot(test_y * MAX_PRICE, label='actual') # 고가\n",
    "ax.plot(test_y2 * MAX_PRICE, label='nn')\n",
    "plt.legend()\n",
    "plt.show()"
   ]
  },
  {
   "cell_type": "code",
   "execution_count": null,
   "metadata": {
    "colab": {},
    "colab_type": "code",
    "id": "O6nsn50esYex"
   },
   "outputs": [],
   "source": []
  },
  {
   "cell_type": "code",
   "execution_count": null,
   "metadata": {
    "colab": {},
    "colab_type": "code",
    "id": "ONpkTSktsYe0"
   },
   "outputs": [],
   "source": []
  }
 ],
 "metadata": {
  "colab": {
   "collapsed_sections": [],
   "name": "keras_lstm_stock1.ipynb",
   "provenance": [],
   "version": "0.3.2"
  },
  "kernelspec": {
   "display_name": "Python 3",
   "language": "python",
   "name": "python3"
  },
  "language_info": {
   "codemirror_mode": {
    "name": "ipython",
    "version": 3
   },
   "file_extension": ".py",
   "mimetype": "text/x-python",
   "name": "python",
   "nbconvert_exporter": "python",
   "pygments_lexer": "ipython3",
   "version": "3.6.5"
  }
 },
 "nbformat": 4,
 "nbformat_minor": 2
}
