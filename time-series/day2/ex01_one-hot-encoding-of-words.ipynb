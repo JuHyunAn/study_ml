{
 "cells": [
  {
   "cell_type": "code",
   "execution_count": null,
   "metadata": {
    "colab": {},
    "colab_type": "code",
    "id": "zCxdAZ39HgFC"
   },
   "outputs": [],
   "source": [
    "import numpy as np\n"
   ]
  },
  {
   "cell_type": "code",
   "execution_count": null,
   "metadata": {
    "colab": {},
    "colab_type": "code",
    "id": "2ItaQRbsHN7h"
   },
   "outputs": [],
   "source": [
    "\n",
    "# 초기 데이터: 각 원소가 샘플입니다\n",
    "# (이 예에서 하나의 샘플이 하나의 문장입니다. 하지만 문서 전체가 될 수도 있습니다)\n",
    "samples = ['The cat sat on the mat.', 'The dog ate my homework.']\n",
    "\n",
    "# 데이터에 있는 모든 토큰의 인덱스를 구축합니다\n",
    "word_to_index = {} # word-to-index 매핑\n",
    "index_to_word = {} # index_to_word 매핑\n",
    "index_to_word[0] = '' # index 0번은 사용하지 않음.\n",
    "\n",
    "for sample in samples:\n",
    "    # split() 메서드를 사용해 샘플을 토큰으로 나눕니다.\n",
    "    # 실전에서는 구둣점과 특수 문자도 사용합니다.\n",
    "    for word in sample.split():\n",
    "        if word not in word_to_index:\n",
    "            # 단어마다 고유한 인덱스를 할당합니다.\n",
    "            # 인덱스 0은 사용하지 않습니다. 그래서 +1\n",
    "            idx = len(word_to_index) + 1\n",
    "            word_to_index[word] = idx\n",
    "            index_to_word[idx] = word            \n",
    "            \n",
    "\n",
    "# 샘플을 벡터로 변환합니다.\n",
    "# 각 샘플에서 max_length 까지 단어만 사용합니다.\n",
    "max_length = 10\n",
    "max_index_value = max(word_to_index.values())\n",
    "\n",
    "# 결과를 저장할 배열입니다\n",
    "results = np.zeros((len(samples), max_length, max_index_value + 1))\n",
    "for i, sample in enumerate(samples):\n",
    "    for j, word in list(enumerate(sample.split()))[:max_length]:\n",
    "        index = word_to_index.get(word)\n",
    "        results[i, j, index] = 1.\n"
   ]
  },
  {
   "cell_type": "markdown",
   "metadata": {
    "colab_type": "text",
    "id": "5k8O5RjrHqb2"
   },
   "source": [
    "##  word-2-index "
   ]
  },
  {
   "cell_type": "code",
   "execution_count": 5,
   "metadata": {
    "colab": {
     "base_uri": "https://localhost:8080/",
     "height": 55
    },
    "colab_type": "code",
    "executionInfo": {
     "elapsed": 797,
     "status": "ok",
     "timestamp": 1558422410381,
     "user": {
      "displayName": "한대희",
      "photoUrl": "",
      "userId": "17475105266749362233"
     },
     "user_tz": -540
    },
    "id": "vu-kdwBxHhaC",
    "outputId": "7ffd7698-d9cf-4367-bf25-42e6b6e19cd0"
   },
   "outputs": [
    {
     "name": "stdout",
     "output_type": "stream",
     "text": [
      "{'The': 1, 'cat': 2, 'sat': 3, 'on': 4, 'the': 5, 'mat.': 6, 'dog': 7, 'ate': 8, 'my': 9, 'homework.': 10}\n"
     ]
    }
   ],
   "source": [
    "print(word_to_index)"
   ]
  },
  {
   "cell_type": "code",
   "execution_count": 6,
   "metadata": {
    "colab": {
     "base_uri": "https://localhost:8080/",
     "height": 197
    },
    "colab_type": "code",
    "executionInfo": {
     "elapsed": 986,
     "status": "ok",
     "timestamp": 1558422416216,
     "user": {
      "displayName": "한대희",
      "photoUrl": "",
      "userId": "17475105266749362233"
     },
     "user_tz": -540
    },
    "id": "wqoNpyDOHywR",
    "outputId": "b0816d8e-cb2f-4f12-c537-7e014b0c2b0e"
   },
   "outputs": [
    {
     "name": "stdout",
     "output_type": "stream",
     "text": [
      "단어 The --> 숫자 1\n",
      "단어 cat --> 숫자 2\n",
      "단어 sat --> 숫자 3\n",
      "단어 on --> 숫자 4\n",
      "단어 the --> 숫자 5\n",
      "단어 mat. --> 숫자 6\n",
      "단어 dog --> 숫자 7\n",
      "단어 ate --> 숫자 8\n",
      "단어 my --> 숫자 9\n",
      "단어 homework. --> 숫자 10\n"
     ]
    }
   ],
   "source": [
    "for word, idx in word_to_index.items():\n",
    "  print('단어', word, '-->', '숫자', idx)"
   ]
  },
  {
   "cell_type": "code",
   "execution_count": 7,
   "metadata": {
    "colab": {
     "base_uri": "https://localhost:8080/",
     "height": 233
    },
    "colab_type": "code",
    "executionInfo": {
     "elapsed": 650,
     "status": "ok",
     "timestamp": 1558422424662,
     "user": {
      "displayName": "한대희",
      "photoUrl": "",
      "userId": "17475105266749362233"
     },
     "user_tz": -540
    },
    "id": "Q2X_IOG-HuWZ",
    "outputId": "f3d90319-5efe-4ee8-ec5e-b33ef1e57c22"
   },
   "outputs": [
    {
     "name": "stdout",
     "output_type": "stream",
     "text": [
      "문장 0번 The cat sat on the mat.\n",
      "문장 0번의 인코딩\n",
      "단어  [0. 1. 0. 0. 0. 0. 0. 0. 0. 0. 0.]\n",
      "단어  [0. 0. 1. 0. 0. 0. 0. 0. 0. 0. 0.]\n",
      "단어  [0. 0. 0. 1. 0. 0. 0. 0. 0. 0. 0.]\n",
      "단어  [0. 0. 0. 0. 1. 0. 0. 0. 0. 0. 0.]\n",
      "단어  [0. 0. 0. 0. 0. 1. 0. 0. 0. 0. 0.]\n",
      "단어  [0. 0. 0. 0. 0. 0. 1. 0. 0. 0. 0.]\n",
      "단어  [0. 0. 0. 0. 0. 0. 0. 0. 0. 0. 0.]\n",
      "단어  [0. 0. 0. 0. 0. 0. 0. 0. 0. 0. 0.]\n",
      "단어  [0. 0. 0. 0. 0. 0. 0. 0. 0. 0. 0.]\n",
      "단어  [0. 0. 0. 0. 0. 0. 0. 0. 0. 0. 0.]\n"
     ]
    }
   ],
   "source": [
    "print('문장 0번', samples[0])\n",
    "print('문장 0번의 인코딩')\n",
    "for word_encoded in results[0]:\n",
    "  print('단어 ', word_encoded)"
   ]
  },
  {
   "cell_type": "markdown",
   "metadata": {
    "colab_type": "text",
    "id": "V1GhrmxXN2E8"
   },
   "source": [
    "## index-2-word"
   ]
  },
  {
   "cell_type": "code",
   "execution_count": 9,
   "metadata": {
    "colab": {
     "base_uri": "https://localhost:8080/",
     "height": 233
    },
    "colab_type": "code",
    "executionInfo": {
     "elapsed": 713,
     "status": "ok",
     "timestamp": 1558422468167,
     "user": {
      "displayName": "한대희",
      "photoUrl": "",
      "userId": "17475105266749362233"
     },
     "user_tz": -540
    },
    "id": "78OGQ2EhJDuM",
    "outputId": "1086964e-4074-4502-fce0-c7af48443ac5"
   },
   "outputs": [
    {
     "name": "stdout",
     "output_type": "stream",
     "text": [
      "문장 0번 The cat sat on the mat.\n",
      "문장 0번의 인코딩\n",
      "단어  [0. 1. 0. 0. 0. 0. 0. 0. 0. 0. 0.] 1 The\n",
      "단어  [0. 0. 1. 0. 0. 0. 0. 0. 0. 0. 0.] 2 cat\n",
      "단어  [0. 0. 0. 1. 0. 0. 0. 0. 0. 0. 0.] 3 sat\n",
      "단어  [0. 0. 0. 0. 1. 0. 0. 0. 0. 0. 0.] 4 on\n",
      "단어  [0. 0. 0. 0. 0. 1. 0. 0. 0. 0. 0.] 5 the\n",
      "단어  [0. 0. 0. 0. 0. 0. 1. 0. 0. 0. 0.] 6 mat.\n",
      "단어  [0. 0. 0. 0. 0. 0. 0. 0. 0. 0. 0.] 0 \n",
      "단어  [0. 0. 0. 0. 0. 0. 0. 0. 0. 0. 0.] 0 \n",
      "단어  [0. 0. 0. 0. 0. 0. 0. 0. 0. 0. 0.] 0 \n",
      "단어  [0. 0. 0. 0. 0. 0. 0. 0. 0. 0. 0.] 0 \n"
     ]
    }
   ],
   "source": [
    "print('문장 0번', samples[0])\n",
    "print('문장 0번의 인코딩')\n",
    "for word_encoded in results[0]:\n",
    "  word_idx = np.argmax(word_encoded)\n",
    "  word = index_to_word[word_idx]\n",
    "  print('단어 ', word_encoded, word_idx, word )"
   ]
  },
  {
   "cell_type": "code",
   "execution_count": null,
   "metadata": {
    "colab": {},
    "colab_type": "code",
    "id": "i39scKSSJsvw"
   },
   "outputs": [],
   "source": []
  }
 ],
 "metadata": {
  "colab": {
   "collapsed_sections": [],
   "name": "ex01_one-hot-encoding-of-words.ipynb",
   "provenance": [],
   "version": "0.3.2"
  },
  "kernelspec": {
   "display_name": "Python 3",
   "language": "python",
   "name": "python3"
  },
  "language_info": {
   "codemirror_mode": {
    "name": "ipython",
    "version": 3
   },
   "file_extension": ".py",
   "mimetype": "text/x-python",
   "name": "python",
   "nbconvert_exporter": "python",
   "pygments_lexer": "ipython3",
   "version": "3.6.5"
  }
 },
 "nbformat": 4,
 "nbformat_minor": 2
}
