{
 "cells": [
  {
   "cell_type": "code",
   "execution_count": null,
   "metadata": {
    "colab": {},
    "colab_type": "code",
    "id": "DIYsPjR2ZbYH",
    "outputId": "927d8c0c-c581-4cfa-e5f0-db3dae63dcbb"
   },
   "outputs": [
    {
     "ename": "ModuleNotFoundError",
     "evalue": "No module named 'fbprophet'",
     "output_type": "error",
     "traceback": [
      "\u001b[1;31m---------------------------------------------------------------------------\u001b[0m",
      "\u001b[1;31mModuleNotFoundError\u001b[0m                       Traceback (most recent call last)",
      "\u001b[1;32m<ipython-input-1-f503e9c6cf11>\u001b[0m in \u001b[0;36m<module>\u001b[1;34m\u001b[0m\n\u001b[1;32m----> 1\u001b[1;33m \u001b[1;32mfrom\u001b[0m \u001b[0mfbprophet\u001b[0m \u001b[1;32mimport\u001b[0m \u001b[0mProphet\u001b[0m\u001b[1;33m\u001b[0m\u001b[0m\n\u001b[0m",
      "\u001b[1;31mModuleNotFoundError\u001b[0m: No module named 'fbprophet'"
     ]
    }
   ],
   "source": [
    "from fbprophet import Prophet"
   ]
  },
  {
   "cell_type": "code",
   "execution_count": 1,
   "metadata": {
    "colab": {
     "base_uri": "https://localhost:8080/",
     "height": 145
    },
    "colab_type": "code",
    "executionInfo": {
     "elapsed": 29177,
     "status": "ok",
     "timestamp": 1560315910458,
     "user": {
      "displayName": "JAEHYEONG AN",
      "photoUrl": "",
      "userId": "12573335539209637166"
     },
     "user_tz": -540
    },
    "id": "OVI96lLjsd-m",
    "outputId": "6da18d03-84a2-4816-e154-3c56756b4a7b"
   },
   "outputs": [
    {
     "name": "stdout",
     "output_type": "stream",
     "text": [
      "Go to this URL in a browser: https://accounts.google.com/o/oauth2/auth?client_id=947318989803-6bn6qk8qdgf4n4g3pfee6491hc0brc4i.apps.googleusercontent.com&redirect_uri=urn%3Aietf%3Awg%3Aoauth%3A2.0%3Aoob&scope=email%20https%3A%2F%2Fwww.googleapis.com%2Fauth%2Fdocs.test%20https%3A%2F%2Fwww.googleapis.com%2Fauth%2Fdrive%20https%3A%2F%2Fwww.googleapis.com%2Fauth%2Fdrive.photos.readonly%20https%3A%2F%2Fwww.googleapis.com%2Fauth%2Fpeopleapi.readonly&response_type=code\n",
      "\n",
      "Enter your authorization code:\n",
      "··········\n",
      "Mounted at /content/gdrive\n",
      "/content/gdrive/My Drive/pydev/workspace/study_ml/time-series/predict_stock_multivariate\n"
     ]
    }
   ],
   "source": [
    "import os\n",
    "from google.colab import drive\n",
    "drive.mount('/content/gdrive', force_remount=True)\n",
    "FOLDER = '/content/gdrive/My Drive/pydev/workspace/study_ml/time-series/predict_stock_multivariate'\n",
    "os.chdir(FOLDER)\n",
    "print(os.getcwd())"
   ]
  },
  {
   "cell_type": "code",
   "execution_count": 1,
   "metadata": {
    "colab": {
     "base_uri": "https://localhost:8080/",
     "height": 35
    },
    "colab_type": "code",
    "executionInfo": {
     "elapsed": 1946,
     "status": "ok",
     "timestamp": 1560315914752,
     "user": {
      "displayName": "JAEHYEONG AN",
      "photoUrl": "",
      "userId": "12573335539209637166"
     },
     "user_tz": -540
    },
    "id": "uGKrOFrbsdOL",
    "outputId": "1e97b37f-4a76-4167-d781-4e25fd861108"
   },
   "outputs": [
    {
     "name": "stderr",
     "output_type": "stream",
     "text": [
      "Using TensorFlow backend.\n"
     ]
    }
   ],
   "source": [
    "import numpy as np\n",
    "import pandas as pd\n",
    "from keras.models import Sequential\n",
    "from keras.layers import Dense, LSTM, Dropout\n",
    "from keras.utils import to_categorical\n",
    "import matplotlib.pyplot as plt\n",
    "import tensorflow as tf"
   ]
  },
  {
   "cell_type": "markdown",
   "metadata": {
    "colab_type": "text",
    "id": "JCmrE0TKsdOQ"
   },
   "source": [
    "### LSTM 학습용을 위한 데이터 생성. window개념 포함.\n"
   ]
  },
  {
   "cell_type": "code",
   "execution_count": 25,
   "metadata": {
    "colab": {},
    "colab_type": "code",
    "id": "1e9c_XWCsdOR"
   },
   "outputs": [],
   "source": [
    "## LSTM 학습용을 위한 데이터 생성. window개념 포함.\n",
    "def getSeriesData(data, window_size, elementdim=1):\n",
    "\t'''\n",
    "\twindow_size 만큼의 데이터로 다음 데이터를 예측하기 위한 학습데이터 생성\n",
    "\t:param data: [1,2,3,4,5,6]\n",
    "\t:param window_size:\n",
    "\t:param elementdim:\n",
    "\t:return: x=[[1,2,3], [2,3,4], [3,4,5]]\n",
    "\t:return: y=[      4,       5,       6]\n",
    "\t'''\n",
    "\tn_pairs = len(data) - window_size # (x,y) pair 개수\n",
    "\txlist = [data[i:i+window_size] for i in range(n_pairs)]\n",
    "\n",
    "\tylist = [data[(i+1)+window_size] for i in range(n_pairs)]\n",
    "\tx = np.array(xlist, dtype=np.float32)\n",
    "\ty = np.array(ylist, dtype=np.float32)\n",
    "\treturn x, y"
   ]
  },
  {
   "cell_type": "code",
   "execution_count": 8,
   "metadata": {
    "colab": {
     "base_uri": "https://localhost:8080/",
     "height": 53
    },
    "colab_type": "code",
    "executionInfo": {
     "elapsed": 1485,
     "status": "ok",
     "timestamp": 1560318029506,
     "user": {
      "displayName": "JAEHYEONG AN",
      "photoUrl": "",
      "userId": "12573335539209637166"
     },
     "user_tz": -540
    },
    "id": "x3DDGM_isdOT",
    "outputId": "ed1b11fd-214c-4f75-9c47-d49298811cc5"
   },
   "outputs": [
    {
     "name": "stdout",
     "output_type": "stream",
     "text": [
      "(7, 3)\n",
      "[ 4.  5.  6.  7.  8.  9. 10.]\n"
     ]
    }
   ],
   "source": [
    "x, y = getSeriesData([1,2,3,4,5,6,7,8,9,10], 3)\n",
    "print(x.shape)\n",
    "print(y)"
   ]
  },
  {
   "cell_type": "code",
   "execution_count": 26,
   "metadata": {
    "colab": {
     "base_uri": "https://localhost:8080/",
     "height": 125
    },
    "colab_type": "code",
    "executionInfo": {
     "elapsed": 1489,
     "status": "ok",
     "timestamp": 1560317686376,
     "user": {
      "displayName": "JAEHYEONG AN",
      "photoUrl": "",
      "userId": "12573335539209637166"
     },
     "user_tz": -540
    },
    "id": "hVgtFrcqLg7X",
    "outputId": "db733da3-c0ee-43c4-89e1-ac02a618ea3a"
   },
   "outputs": [
    {
     "ename": "IndexError",
     "evalue": "list index out of range",
     "output_type": "error",
     "traceback": [
      "\u001b[1;31m---------------------------------------------------------------------------\u001b[0m",
      "\u001b[1;31mIndexError\u001b[0m                                Traceback (most recent call last)",
      "\u001b[1;32m<ipython-input-26-88189389e63a>\u001b[0m in \u001b[0;36m<module>\u001b[1;34m\u001b[0m\n\u001b[1;32m----> 1\u001b[1;33m \u001b[0mx\u001b[0m\u001b[1;33m,\u001b[0m \u001b[0my\u001b[0m \u001b[1;33m=\u001b[0m \u001b[0mgetSeriesData\u001b[0m\u001b[1;33m(\u001b[0m\u001b[1;33m[\u001b[0m\u001b[1;36m1\u001b[0m\u001b[1;33m,\u001b[0m\u001b[1;36m2\u001b[0m\u001b[1;33m,\u001b[0m\u001b[1;36m3\u001b[0m\u001b[1;33m,\u001b[0m\u001b[1;36m4\u001b[0m\u001b[1;33m,\u001b[0m\u001b[1;36m5\u001b[0m\u001b[1;33m,\u001b[0m\u001b[1;36m6\u001b[0m\u001b[1;33m,\u001b[0m\u001b[1;36m7\u001b[0m\u001b[1;33m,\u001b[0m\u001b[1;36m8\u001b[0m\u001b[1;33m,\u001b[0m\u001b[1;36m9\u001b[0m\u001b[1;33m,\u001b[0m\u001b[1;36m10\u001b[0m\u001b[1;33m]\u001b[0m\u001b[1;33m,\u001b[0m \u001b[1;36m3\u001b[0m\u001b[1;33m)\u001b[0m\u001b[1;33m\u001b[0m\u001b[0m\n\u001b[0m\u001b[0;32m      2\u001b[0m \u001b[0mprint\u001b[0m\u001b[1;33m(\u001b[0m\u001b[0mx\u001b[0m\u001b[1;33m)\u001b[0m\u001b[1;33m\u001b[0m\u001b[0m\n\u001b[0;32m      3\u001b[0m \u001b[0mprint\u001b[0m\u001b[1;33m(\u001b[0m\u001b[0my\u001b[0m\u001b[1;33m)\u001b[0m\u001b[1;33m\u001b[0m\u001b[0m\n",
      "\u001b[1;32m<ipython-input-25-8b591cedf36c>\u001b[0m in \u001b[0;36mgetSeriesData\u001b[1;34m(data, window_size, elementdim)\u001b[0m\n\u001b[0;32m     12\u001b[0m         \u001b[0mxlist\u001b[0m \u001b[1;33m=\u001b[0m \u001b[1;33m[\u001b[0m\u001b[0mdata\u001b[0m\u001b[1;33m[\u001b[0m\u001b[0mi\u001b[0m\u001b[1;33m:\u001b[0m\u001b[0mi\u001b[0m\u001b[1;33m+\u001b[0m\u001b[0mwindow_size\u001b[0m\u001b[1;33m]\u001b[0m \u001b[1;32mfor\u001b[0m \u001b[0mi\u001b[0m \u001b[1;32min\u001b[0m \u001b[0mrange\u001b[0m\u001b[1;33m(\u001b[0m\u001b[0mn_pairs\u001b[0m\u001b[1;33m)\u001b[0m\u001b[1;33m]\u001b[0m\u001b[1;33m\u001b[0m\u001b[0m\n\u001b[0;32m     13\u001b[0m \u001b[1;33m\u001b[0m\u001b[0m\n\u001b[1;32m---> 14\u001b[1;33m         \u001b[0mylist\u001b[0m \u001b[1;33m=\u001b[0m \u001b[1;33m[\u001b[0m\u001b[0mdata\u001b[0m\u001b[1;33m[\u001b[0m\u001b[1;33m(\u001b[0m\u001b[0mi\u001b[0m\u001b[1;33m+\u001b[0m\u001b[1;36m1\u001b[0m\u001b[1;33m)\u001b[0m\u001b[1;33m+\u001b[0m\u001b[0mwindow_size\u001b[0m\u001b[1;33m]\u001b[0m \u001b[1;32mfor\u001b[0m \u001b[0mi\u001b[0m \u001b[1;32min\u001b[0m \u001b[0mrange\u001b[0m\u001b[1;33m(\u001b[0m\u001b[0mn_pairs\u001b[0m\u001b[1;33m)\u001b[0m\u001b[1;33m]\u001b[0m\u001b[1;33m\u001b[0m\u001b[0m\n\u001b[0m\u001b[0;32m     15\u001b[0m         \u001b[0mx\u001b[0m \u001b[1;33m=\u001b[0m \u001b[0mnp\u001b[0m\u001b[1;33m.\u001b[0m\u001b[0marray\u001b[0m\u001b[1;33m(\u001b[0m\u001b[0mxlist\u001b[0m\u001b[1;33m,\u001b[0m \u001b[0mdtype\u001b[0m\u001b[1;33m=\u001b[0m\u001b[0mnp\u001b[0m\u001b[1;33m.\u001b[0m\u001b[0mfloat32\u001b[0m\u001b[1;33m)\u001b[0m\u001b[1;33m\u001b[0m\u001b[0m\n\u001b[0;32m     16\u001b[0m         \u001b[0my\u001b[0m \u001b[1;33m=\u001b[0m \u001b[0mnp\u001b[0m\u001b[1;33m.\u001b[0m\u001b[0marray\u001b[0m\u001b[1;33m(\u001b[0m\u001b[0mylist\u001b[0m\u001b[1;33m,\u001b[0m \u001b[0mdtype\u001b[0m\u001b[1;33m=\u001b[0m\u001b[0mnp\u001b[0m\u001b[1;33m.\u001b[0m\u001b[0mfloat32\u001b[0m\u001b[1;33m)\u001b[0m\u001b[1;33m\u001b[0m\u001b[0m\n",
      "\u001b[1;32m<ipython-input-25-8b591cedf36c>\u001b[0m in \u001b[0;36m<listcomp>\u001b[1;34m(.0)\u001b[0m\n\u001b[0;32m     12\u001b[0m         \u001b[0mxlist\u001b[0m \u001b[1;33m=\u001b[0m \u001b[1;33m[\u001b[0m\u001b[0mdata\u001b[0m\u001b[1;33m[\u001b[0m\u001b[0mi\u001b[0m\u001b[1;33m:\u001b[0m\u001b[0mi\u001b[0m\u001b[1;33m+\u001b[0m\u001b[0mwindow_size\u001b[0m\u001b[1;33m]\u001b[0m \u001b[1;32mfor\u001b[0m \u001b[0mi\u001b[0m \u001b[1;32min\u001b[0m \u001b[0mrange\u001b[0m\u001b[1;33m(\u001b[0m\u001b[0mn_pairs\u001b[0m\u001b[1;33m)\u001b[0m\u001b[1;33m]\u001b[0m\u001b[1;33m\u001b[0m\u001b[0m\n\u001b[0;32m     13\u001b[0m \u001b[1;33m\u001b[0m\u001b[0m\n\u001b[1;32m---> 14\u001b[1;33m         \u001b[0mylist\u001b[0m \u001b[1;33m=\u001b[0m \u001b[1;33m[\u001b[0m\u001b[0mdata\u001b[0m\u001b[1;33m[\u001b[0m\u001b[1;33m(\u001b[0m\u001b[0mi\u001b[0m\u001b[1;33m+\u001b[0m\u001b[1;36m1\u001b[0m\u001b[1;33m)\u001b[0m\u001b[1;33m+\u001b[0m\u001b[0mwindow_size\u001b[0m\u001b[1;33m]\u001b[0m \u001b[1;32mfor\u001b[0m \u001b[0mi\u001b[0m \u001b[1;32min\u001b[0m \u001b[0mrange\u001b[0m\u001b[1;33m(\u001b[0m\u001b[0mn_pairs\u001b[0m\u001b[1;33m)\u001b[0m\u001b[1;33m]\u001b[0m\u001b[1;33m\u001b[0m\u001b[0m\n\u001b[0m\u001b[0;32m     15\u001b[0m         \u001b[0mx\u001b[0m \u001b[1;33m=\u001b[0m \u001b[0mnp\u001b[0m\u001b[1;33m.\u001b[0m\u001b[0marray\u001b[0m\u001b[1;33m(\u001b[0m\u001b[0mxlist\u001b[0m\u001b[1;33m,\u001b[0m \u001b[0mdtype\u001b[0m\u001b[1;33m=\u001b[0m\u001b[0mnp\u001b[0m\u001b[1;33m.\u001b[0m\u001b[0mfloat32\u001b[0m\u001b[1;33m)\u001b[0m\u001b[1;33m\u001b[0m\u001b[0m\n\u001b[0;32m     16\u001b[0m         \u001b[0my\u001b[0m \u001b[1;33m=\u001b[0m \u001b[0mnp\u001b[0m\u001b[1;33m.\u001b[0m\u001b[0marray\u001b[0m\u001b[1;33m(\u001b[0m\u001b[0mylist\u001b[0m\u001b[1;33m,\u001b[0m \u001b[0mdtype\u001b[0m\u001b[1;33m=\u001b[0m\u001b[0mnp\u001b[0m\u001b[1;33m.\u001b[0m\u001b[0mfloat32\u001b[0m\u001b[1;33m)\u001b[0m\u001b[1;33m\u001b[0m\u001b[0m\n",
      "\u001b[1;31mIndexError\u001b[0m: list index out of range"
     ]
    }
   ],
   "source": [
    "x, y = getSeriesData([1,2,3,4,5,6,7,8,9,10], 3)\n",
    "print(x)\n",
    "print(y)"
   ]
  },
  {
   "cell_type": "code",
   "execution_count": 2,
   "metadata": {
    "colab": {},
    "colab_type": "code",
    "id": "pHlAtwbCsdOW"
   },
   "outputs": [],
   "source": [
    "# 학습용, 검증용, 테스트용 분할하기\n",
    "def split_data(data, val_size=0.15, test_size=0.15):\n",
    "  \"\"\"\n",
    "  splits data to training, validation and testing parts\n",
    "  \"\"\"\n",
    "  ntest = int(round(len(data) * (1 - test_size)))\n",
    "  nval = int(round(ntest * (1 - val_size)))\n",
    "  \n",
    "  train, validation, test = np.split(data, [nval, ntest])\n",
    "  \n",
    "  return train, validation, test"
   ]
  },
  {
   "cell_type": "markdown",
   "metadata": {
    "colab_type": "text",
    "id": "URO6DsMvsdOZ"
   },
   "source": [
    "### 주가 데이터 csv파일 읽기"
   ]
  },
  {
   "cell_type": "code",
   "execution_count": 21,
   "metadata": {
    "colab": {},
    "colab_type": "code",
    "id": "FwZ5YH93sdOZ"
   },
   "outputs": [],
   "source": [
    "df = pd.read_csv('apple.csv', header=0)"
   ]
  },
  {
   "cell_type": "code",
   "execution_count": 22,
   "metadata": {
    "colab": {
     "base_uri": "https://localhost:8080/",
     "height": 669
    },
    "colab_type": "code",
    "executionInfo": {
     "elapsed": 651,
     "status": "ok",
     "timestamp": 1560316535899,
     "user": {
      "displayName": "JAEHYEONG AN",
      "photoUrl": "",
      "userId": "12573335539209637166"
     },
     "user_tz": -540
    },
    "id": "1M_7bdSCsdOb",
    "outputId": "18db9c76-c641-4123-b723-5c7e22b3b230"
   },
   "outputs": [
    {
     "data": {
      "text/html": [
       "<div>\n",
       "<style scoped>\n",
       "    .dataframe tbody tr th:only-of-type {\n",
       "        vertical-align: middle;\n",
       "    }\n",
       "\n",
       "    .dataframe tbody tr th {\n",
       "        vertical-align: top;\n",
       "    }\n",
       "\n",
       "    .dataframe thead th {\n",
       "        text-align: right;\n",
       "    }\n",
       "</style>\n",
       "<table border=\"1\" class=\"dataframe\">\n",
       "  <thead>\n",
       "    <tr style=\"text-align: right;\">\n",
       "      <th></th>\n",
       "      <th>Date</th>\n",
       "      <th>Open</th>\n",
       "      <th>High</th>\n",
       "      <th>Low</th>\n",
       "      <th>Close</th>\n",
       "      <th>Adj Close</th>\n",
       "      <th>Volume</th>\n",
       "    </tr>\n",
       "  </thead>\n",
       "  <tbody>\n",
       "    <tr>\n",
       "      <th>0</th>\n",
       "      <td>2010-01-04</td>\n",
       "      <td>30.49</td>\n",
       "      <td>30.64</td>\n",
       "      <td>30.34</td>\n",
       "      <td>30.57</td>\n",
       "      <td>27.41</td>\n",
       "      <td>123432400.0</td>\n",
       "    </tr>\n",
       "    <tr>\n",
       "      <th>1</th>\n",
       "      <td>2010-01-05</td>\n",
       "      <td>30.66</td>\n",
       "      <td>30.80</td>\n",
       "      <td>30.46</td>\n",
       "      <td>30.63</td>\n",
       "      <td>27.45</td>\n",
       "      <td>150476200.0</td>\n",
       "    </tr>\n",
       "    <tr>\n",
       "      <th>2</th>\n",
       "      <td>2010-01-06</td>\n",
       "      <td>30.63</td>\n",
       "      <td>30.75</td>\n",
       "      <td>30.11</td>\n",
       "      <td>30.14</td>\n",
       "      <td>27.02</td>\n",
       "      <td>138040000.0</td>\n",
       "    </tr>\n",
       "    <tr>\n",
       "      <th>3</th>\n",
       "      <td>2010-01-07</td>\n",
       "      <td>30.25</td>\n",
       "      <td>30.29</td>\n",
       "      <td>29.86</td>\n",
       "      <td>30.08</td>\n",
       "      <td>26.97</td>\n",
       "      <td>119282800.0</td>\n",
       "    </tr>\n",
       "    <tr>\n",
       "      <th>4</th>\n",
       "      <td>2010-01-08</td>\n",
       "      <td>30.04</td>\n",
       "      <td>30.29</td>\n",
       "      <td>29.87</td>\n",
       "      <td>30.28</td>\n",
       "      <td>27.15</td>\n",
       "      <td>111902700.0</td>\n",
       "    </tr>\n",
       "    <tr>\n",
       "      <th>5</th>\n",
       "      <td>2010-01-11</td>\n",
       "      <td>30.40</td>\n",
       "      <td>30.43</td>\n",
       "      <td>29.78</td>\n",
       "      <td>30.02</td>\n",
       "      <td>26.91</td>\n",
       "      <td>115557400.0</td>\n",
       "    </tr>\n",
       "    <tr>\n",
       "      <th>6</th>\n",
       "      <td>2010-01-12</td>\n",
       "      <td>29.88</td>\n",
       "      <td>29.97</td>\n",
       "      <td>29.49</td>\n",
       "      <td>29.67</td>\n",
       "      <td>26.60</td>\n",
       "      <td>148614900.0</td>\n",
       "    </tr>\n",
       "    <tr>\n",
       "      <th>7</th>\n",
       "      <td>2010-01-13</td>\n",
       "      <td>29.70</td>\n",
       "      <td>30.13</td>\n",
       "      <td>29.16</td>\n",
       "      <td>30.09</td>\n",
       "      <td>26.98</td>\n",
       "      <td>151473000.0</td>\n",
       "    </tr>\n",
       "    <tr>\n",
       "      <th>8</th>\n",
       "      <td>2010-01-14</td>\n",
       "      <td>30.02</td>\n",
       "      <td>30.07</td>\n",
       "      <td>29.86</td>\n",
       "      <td>29.92</td>\n",
       "      <td>26.82</td>\n",
       "      <td>108223500.0</td>\n",
       "    </tr>\n",
       "    <tr>\n",
       "      <th>9</th>\n",
       "      <td>2010-01-15</td>\n",
       "      <td>30.13</td>\n",
       "      <td>30.23</td>\n",
       "      <td>29.41</td>\n",
       "      <td>29.42</td>\n",
       "      <td>26.37</td>\n",
       "      <td>148516900.0</td>\n",
       "    </tr>\n",
       "    <tr>\n",
       "      <th>10</th>\n",
       "      <td>2010-01-19</td>\n",
       "      <td>29.76</td>\n",
       "      <td>30.74</td>\n",
       "      <td>29.61</td>\n",
       "      <td>30.72</td>\n",
       "      <td>27.54</td>\n",
       "      <td>182501900.0</td>\n",
       "    </tr>\n",
       "    <tr>\n",
       "      <th>11</th>\n",
       "      <td>2010-01-20</td>\n",
       "      <td>30.70</td>\n",
       "      <td>30.79</td>\n",
       "      <td>29.93</td>\n",
       "      <td>30.25</td>\n",
       "      <td>27.11</td>\n",
       "      <td>153038200.0</td>\n",
       "    </tr>\n",
       "    <tr>\n",
       "      <th>12</th>\n",
       "      <td>2010-01-21</td>\n",
       "      <td>30.30</td>\n",
       "      <td>30.47</td>\n",
       "      <td>29.60</td>\n",
       "      <td>29.72</td>\n",
       "      <td>26.65</td>\n",
       "      <td>152038600.0</td>\n",
       "    </tr>\n",
       "    <tr>\n",
       "      <th>13</th>\n",
       "      <td>2010-01-22</td>\n",
       "      <td>29.54</td>\n",
       "      <td>29.64</td>\n",
       "      <td>28.17</td>\n",
       "      <td>28.25</td>\n",
       "      <td>25.32</td>\n",
       "      <td>220441900.0</td>\n",
       "    </tr>\n",
       "    <tr>\n",
       "      <th>14</th>\n",
       "      <td>2010-01-25</td>\n",
       "      <td>28.93</td>\n",
       "      <td>29.24</td>\n",
       "      <td>28.60</td>\n",
       "      <td>29.01</td>\n",
       "      <td>26.01</td>\n",
       "      <td>266424900.0</td>\n",
       "    </tr>\n",
       "    <tr>\n",
       "      <th>15</th>\n",
       "      <td>2010-01-26</td>\n",
       "      <td>29.42</td>\n",
       "      <td>30.53</td>\n",
       "      <td>28.94</td>\n",
       "      <td>29.42</td>\n",
       "      <td>26.37</td>\n",
       "      <td>466777500.0</td>\n",
       "    </tr>\n",
       "    <tr>\n",
       "      <th>16</th>\n",
       "      <td>2010-01-27</td>\n",
       "      <td>29.55</td>\n",
       "      <td>30.08</td>\n",
       "      <td>28.50</td>\n",
       "      <td>29.70</td>\n",
       "      <td>26.62</td>\n",
       "      <td>430642100.0</td>\n",
       "    </tr>\n",
       "    <tr>\n",
       "      <th>17</th>\n",
       "      <td>2010-01-28</td>\n",
       "      <td>29.28</td>\n",
       "      <td>29.36</td>\n",
       "      <td>28.39</td>\n",
       "      <td>28.47</td>\n",
       "      <td>25.52</td>\n",
       "      <td>293375600.0</td>\n",
       "    </tr>\n",
       "    <tr>\n",
       "      <th>18</th>\n",
       "      <td>2010-01-29</td>\n",
       "      <td>28.73</td>\n",
       "      <td>28.89</td>\n",
       "      <td>27.18</td>\n",
       "      <td>27.44</td>\n",
       "      <td>24.60</td>\n",
       "      <td>311488100.0</td>\n",
       "    </tr>\n",
       "    <tr>\n",
       "      <th>19</th>\n",
       "      <td>2010-02-01</td>\n",
       "      <td>27.48</td>\n",
       "      <td>28.00</td>\n",
       "      <td>27.33</td>\n",
       "      <td>27.82</td>\n",
       "      <td>24.94</td>\n",
       "      <td>187469100.0</td>\n",
       "    </tr>\n",
       "  </tbody>\n",
       "</table>\n",
       "</div>"
      ],
      "text/plain": [
       "          Date   Open   High    Low  Close  Adj Close       Volume\n",
       "0   2010-01-04  30.49  30.64  30.34  30.57      27.41  123432400.0\n",
       "1   2010-01-05  30.66  30.80  30.46  30.63      27.45  150476200.0\n",
       "2   2010-01-06  30.63  30.75  30.11  30.14      27.02  138040000.0\n",
       "3   2010-01-07  30.25  30.29  29.86  30.08      26.97  119282800.0\n",
       "4   2010-01-08  30.04  30.29  29.87  30.28      27.15  111902700.0\n",
       "5   2010-01-11  30.40  30.43  29.78  30.02      26.91  115557400.0\n",
       "6   2010-01-12  29.88  29.97  29.49  29.67      26.60  148614900.0\n",
       "7   2010-01-13  29.70  30.13  29.16  30.09      26.98  151473000.0\n",
       "8   2010-01-14  30.02  30.07  29.86  29.92      26.82  108223500.0\n",
       "9   2010-01-15  30.13  30.23  29.41  29.42      26.37  148516900.0\n",
       "10  2010-01-19  29.76  30.74  29.61  30.72      27.54  182501900.0\n",
       "11  2010-01-20  30.70  30.79  29.93  30.25      27.11  153038200.0\n",
       "12  2010-01-21  30.30  30.47  29.60  29.72      26.65  152038600.0\n",
       "13  2010-01-22  29.54  29.64  28.17  28.25      25.32  220441900.0\n",
       "14  2010-01-25  28.93  29.24  28.60  29.01      26.01  266424900.0\n",
       "15  2010-01-26  29.42  30.53  28.94  29.42      26.37  466777500.0\n",
       "16  2010-01-27  29.55  30.08  28.50  29.70      26.62  430642100.0\n",
       "17  2010-01-28  29.28  29.36  28.39  28.47      25.52  293375600.0\n",
       "18  2010-01-29  28.73  28.89  27.18  27.44      24.60  311488100.0\n",
       "19  2010-02-01  27.48  28.00  27.33  27.82      24.94  187469100.0"
      ]
     },
     "execution_count": 22,
     "metadata": {},
     "output_type": "execute_result"
    }
   ],
   "source": [
    "#print(df)\n",
    "df[:20] # jupyter에서는 print()없이 df라고만 쳐도 이쁘게 출력된다."
   ]
  },
  {
   "cell_type": "markdown",
   "metadata": {
    "colab_type": "text",
    "id": "z3z4AOHnsdOe"
   },
   "source": [
    "### pandas를 이용한 데이터 처리: scaling"
   ]
  },
  {
   "cell_type": "code",
   "execution_count": 23,
   "metadata": {
    "colab": {
     "base_uri": "https://localhost:8080/",
     "height": 89
    },
    "colab_type": "code",
    "executionInfo": {
     "elapsed": 1477,
     "status": "ok",
     "timestamp": 1560316539935,
     "user": {
      "displayName": "JAEHYEONG AN",
      "photoUrl": "",
      "userId": "12573335539209637166"
     },
     "user_tz": -540
    },
    "id": "mOdWyTnSsdOf",
    "outputId": "2ecc63ba-27ea-4576-e3c2-ae188c3bd97a"
   },
   "outputs": [
    {
     "name": "stdout",
     "output_type": "stream",
     "text": [
      "df.columns :\n",
      " ['Date', 'Open', 'High', 'Low', 'Close', 'Adj Close', 'Volume']\n",
      "MAX_PRICE :  177.2\n",
      "MAX_VOL :  470249500.0\n"
     ]
    }
   ],
   "source": [
    "print('df.columns :\\n', list(df.columns))\n",
    "MAX_PRICE = df.High.max()\n",
    "MAX_VOL = df.Volume.max()\n",
    "print('MAX_PRICE : ', MAX_PRICE)\n",
    "print('MAX_VOL : ', MAX_VOL)\n",
    "\n",
    "df.Volume = df.Volume / MAX_VOL\n",
    "df.Open = df.Open / MAX_PRICE\n",
    "df.Close = df.Close / MAX_PRICE\n",
    "df.High = df.High / MAX_PRICE\n",
    "df.Low = df.Low / MAX_PRICE"
   ]
  },
  {
   "cell_type": "code",
   "execution_count": 24,
   "metadata": {
    "colab": {},
    "colab_type": "code",
    "id": "WhGmz9UasdOh"
   },
   "outputs": [],
   "source": [
    "df = df[:40]"
   ]
  },
  {
   "cell_type": "markdown",
   "metadata": {
    "colab_type": "text",
    "id": "uR7GLVqZsdOl"
   },
   "source": [
    "### train, validation, test 데이터 준비\n",
    "### LSTM 용으로 series 데이터 준비"
   ]
  },
  {
   "cell_type": "code",
   "execution_count": 41,
   "metadata": {
    "colab": {
     "base_uri": "https://localhost:8080/",
     "height": 71
    },
    "colab_type": "code",
    "executionInfo": {
     "elapsed": 1450,
     "status": "ok",
     "timestamp": 1560316543781,
     "user": {
      "displayName": "JAEHYEONG AN",
      "photoUrl": "",
      "userId": "12573335539209637166"
     },
     "user_tz": -540
    },
    "id": "_oipDEYUsdOm",
    "outputId": "6b5c45ef-09d8-434e-fc71-df42e2d89123"
   },
   "outputs": [
    {
     "name": "stderr",
     "output_type": "stream",
     "text": [
      "C:\\Miniconda3\\lib\\site-packages\\ipykernel_launcher.py:4: FutureWarning: Method .as_matrix will be removed in a future version. Use .values instead.\n",
      "  after removing the cwd from sys.path.\n"
     ]
    },
    {
     "data": {
      "text/plain": [
       "(40, 6)"
      ]
     },
     "execution_count": 41,
     "metadata": {},
     "output_type": "execute_result"
    }
   ],
   "source": [
    "#df = df[df.Open != 0][['Open']]\n",
    "df2 = df[df.Open != 0][['Open', 'Close', 'High', 'Low', 'Volume']]\n",
    "df2['TARGET'] = [0,1,0,1,1,1,1,1,0,1,0,0,0,1,0,0,1,0,0,1,0,1,0,1,1,1,1,1,0,1,0,0,0,1,0,0,1,0,0,1]\n",
    "xy = df2.as_matrix() # numpy 데이터\n",
    "xy = df2.values # numpy 데이터\n",
    "xy.shape"
   ]
  },
  {
   "cell_type": "code",
   "execution_count": 42,
   "metadata": {
    "colab": {
     "base_uri": "https://localhost:8080/",
     "height": 377
    },
    "colab_type": "code",
    "executionInfo": {
     "elapsed": 1461,
     "status": "ok",
     "timestamp": 1560316547235,
     "user": {
      "displayName": "JAEHYEONG AN",
      "photoUrl": "",
      "userId": "12573335539209637166"
     },
     "user_tz": -540
    },
    "id": "bjaOiSkWGhuz",
    "outputId": "7d5902bf-c7d1-4313-9cce-1996efe6b12d"
   },
   "outputs": [
    {
     "data": {
      "text/plain": [
       "array([[0.17206546, 0.17251693, 0.17291196, 0.17121896, 0.26248279,\n",
       "        0.        ],\n",
       "       [0.17302483, 0.17285553, 0.1738149 , 0.17189616, 0.31999226,\n",
       "        1.        ],\n",
       "       [0.17285553, 0.17009029, 0.17353273, 0.16992099, 0.2935463 ,\n",
       "        0.        ],\n",
       "       [0.17071106, 0.16975169, 0.17093679, 0.16851016, 0.25365854,\n",
       "        1.        ],\n",
       "       [0.16952596, 0.17088036, 0.17093679, 0.16856659, 0.23796453,\n",
       "        1.        ],\n",
       "       [0.17155756, 0.16941309, 0.17172686, 0.16805869, 0.24573636,\n",
       "        1.        ],\n",
       "       [0.16862302, 0.16743792, 0.16913093, 0.16642212, 0.31603415,\n",
       "        1.        ],\n",
       "       [0.16760722, 0.16980813, 0.17003386, 0.16455982, 0.32211199,\n",
       "        1.        ],\n",
       "       [0.16941309, 0.16884876, 0.16969526, 0.16851016, 0.2301406 ,\n",
       "        0.        ],\n",
       "       [0.17003386, 0.16602709, 0.17059819, 0.16597065, 0.31582575,\n",
       "        1.        ],\n",
       "       [0.16794582, 0.17336343, 0.1734763 , 0.16709932, 0.38809589,\n",
       "        0.        ],\n",
       "       [0.17325056, 0.17071106, 0.17375847, 0.16890519, 0.32544043,\n",
       "        0.        ],\n",
       "       [0.17099323, 0.16772009, 0.1719526 , 0.16704289, 0.32331475,\n",
       "        0.        ],\n",
       "       [0.16670429, 0.15942438, 0.16726862, 0.15897291, 0.46877647,\n",
       "        1.        ],\n",
       "       [0.16326185, 0.16371332, 0.16501129, 0.16139955, 0.56656073,\n",
       "        0.        ],\n",
       "       [0.16602709, 0.16602709, 0.1722912 , 0.16331828, 0.99261669,\n",
       "        0.        ],\n",
       "       [0.16676072, 0.16760722, 0.16975169, 0.16083521, 0.91577365,\n",
       "        1.        ],\n",
       "       [0.16523702, 0.16066591, 0.16568849, 0.16021445, 0.62387222,\n",
       "        0.        ],\n",
       "       [0.16213318, 0.15485327, 0.16303612, 0.153386  , 0.66238901,\n",
       "        0.        ],\n",
       "       [0.15507901, 0.15699774, 0.15801354, 0.15423251, 0.3986588 ,\n",
       "        1.        ],\n",
       "       [0.15795711, 0.15790068, 0.15829571, 0.15592551, 0.37126164,\n",
       "        0.        ],\n",
       "       [0.15733634, 0.16060948, 0.16139955, 0.15671558, 0.32712847,\n",
       "        1.        ],\n",
       "       [0.15857788, 0.15485327, 0.15993228, 0.15445824, 0.40279256,\n",
       "        0.        ],\n",
       "       [0.15530474, 0.15756208, 0.15801354, 0.15383747, 0.45205088,\n",
       "        1.        ],\n",
       "       [0.15778781, 0.15648984, 0.15953725, 0.15637698, 0.25426439,\n",
       "        1.        ],\n",
       "       [0.15835214, 0.15818284, 0.15919865, 0.15699774, 0.3364633 ,\n",
       "        1.        ],\n",
       "       [0.15790068, 0.15727991, 0.15852144, 0.15660271, 0.19689633,\n",
       "        1.        ],\n",
       "       [0.15711061, 0.16015801, 0.16106095, 0.15643341, 0.2925817 ,\n",
       "        1.        ],\n",
       "       [0.15970655, 0.16156885, 0.16258465, 0.15761851, 0.34846863,\n",
       "        0.        ],\n",
       "       [0.16281038, 0.16399549, 0.16422122, 0.16247178, 0.28906868,\n",
       "        1.        ],\n",
       "       [0.16461625, 0.16331828, 0.16472912, 0.16190745, 0.2320028 ,\n",
       "        0.        ],\n",
       "       [0.16252822, 0.16360045, 0.16439052, 0.16196388, 0.22478769,\n",
       "        0.        ],\n",
       "       [0.16275395, 0.16258465, 0.16382619, 0.16213318, 0.22087722,\n",
       "        0.        ],\n",
       "       [0.16314898, 0.16156885, 0.16326185, 0.16060948, 0.20763637,\n",
       "        1.        ],\n",
       "       [0.16123025, 0.15886005, 0.16230248, 0.15778781, 0.30573919,\n",
       "        0.        ],\n",
       "       [0.15981941, 0.16179458, 0.16241535, 0.15948081, 0.24485215,\n",
       "        0.        ],\n",
       "       [0.15914221, 0.16286682, 0.16354402, 0.15874718, 0.35360272,\n",
       "        1.        ],\n",
       "       [0.16314898, 0.16495485, 0.16540632, 0.16286682, 0.26978274,\n",
       "        0.        ],\n",
       "       [0.16585779, 0.16851016, 0.16890519, 0.16563205, 0.29244773,\n",
       "        0.        ],\n",
       "       [0.16924379, 0.16839729, 0.16997743, 0.16749436, 0.30119458,\n",
       "        1.        ]])"
      ]
     },
     "execution_count": 42,
     "metadata": {},
     "output_type": "execute_result"
    }
   ],
   "source": [
    "xy"
   ]
  },
  {
   "cell_type": "code",
   "execution_count": 43,
   "metadata": {},
   "outputs": [],
   "source": [
    "def getSeriesData(data, x_size, y_size):\n",
    "    '''\n",
    "    window_size 만큼의 데이터로 다음 데이터를 예측하기 위한 학습데이터 생성\n",
    "    :param data: [1,2,3,4,5,6,7]\n",
    "    :param x_size: X데이터의 window 사이즈\n",
    "    :param y_size: Y데이터의 window 사이즈\n",
    "    :return: x=[[1,2,3], [2,3,4], [3,4,5]]  if x_size=3\n",
    "    :return: y=[  [4,5],   [5,6],   [6,7]]  if y_size=2\n",
    "    '''\n",
    "    n_pairs = len(data) - (x_size + y_size) + 1 # (x,y) pair 개수\n",
    "    xlist = [data[i:i+x_size] for i in range(n_pairs)]\n",
    "    ylist = [data[i+x_size:i+x_size+y_size] for i in range(n_pairs)]\n",
    "    x = np.array(xlist, dtype=np.float32)\n",
    "    y = np.array(ylist, dtype=np.float32)\n",
    "    return x, y"
   ]
  },
  {
   "cell_type": "code",
   "execution_count": 44,
   "metadata": {
    "colab": {
     "base_uri": "https://localhost:8080/",
     "height": 143
    },
    "colab_type": "code",
    "executionInfo": {
     "elapsed": 1708,
     "status": "ok",
     "timestamp": 1560316703121,
     "user": {
      "displayName": "JAEHYEONG AN",
      "photoUrl": "",
      "userId": "12573335539209637166"
     },
     "user_tz": -540
    },
    "id": "9qxg5-tHsdOo",
    "outputId": "4dfb0b04-cba7-438c-8bc9-2ccd37a4b308"
   },
   "outputs": [
    {
     "name": "stdout",
     "output_type": "stream",
     "text": [
      "TRAIN (29, 6)\n",
      "VALID (5, 6)\n",
      "TEST (6, 6)\n",
      "TRAIN X (25, 3, 6)\n",
      "TRAIN Y (25, 2, 6)\n",
      "TEST X (2, 3, 6)\n",
      "TEST Y (2, 2, 6)\n"
     ]
    }
   ],
   "source": [
    "train, validation, test = split_data(xy)\n",
    "WINDOWSIZE = 3\n",
    "y_size = 2\n",
    "train_x, train_y = getSeriesData(train, WINDOWSIZE, y_size)\n",
    "valid_x, valid_y = getSeriesData(validation, WINDOWSIZE, y_size)\n",
    "test_x, test_y = getSeriesData(test, WINDOWSIZE, y_size)\n",
    "\n",
    "print('TRAIN', train.shape)\n",
    "print('VALID', validation.shape)\n",
    "print('TEST', test.shape)\n",
    "print('TRAIN X', train_x.shape)\n",
    "print('TRAIN Y', train_y.shape)\n",
    "print('TEST X', test_x.shape)\n",
    "print('TEST Y', test_y.shape)"
   ]
  },
  {
   "cell_type": "code",
   "execution_count": null,
   "metadata": {
    "colab": {
     "base_uri": "https://localhost:8080/",
     "height": 701
    },
    "colab_type": "code",
    "executionInfo": {
     "elapsed": 740,
     "status": "ok",
     "timestamp": 1560316704602,
     "user": {
      "displayName": "JAEHYEONG AN",
      "photoUrl": "",
      "userId": "12573335539209637166"
     },
     "user_tz": -540
    },
    "id": "RQ_poHYjGj5E",
    "outputId": "44213dfa-e5dc-4a50-e3fc-d9d1b29758cd"
   },
   "outputs": [],
   "source": [
    "print(train_x)\n",
    "print('-----------------')\n",
    "print(test_x)"
   ]
  },
  {
   "cell_type": "code",
   "execution_count": 46,
   "metadata": {},
   "outputs": [
    {
     "data": {
      "text/plain": [
       "array([[[0.17206547, 0.17251693, 0.17291196, 0.17121896, 0.2624828 ,\n",
       "         0.        ],\n",
       "        [0.17302483, 0.17285553, 0.1738149 , 0.17189616, 0.31999227,\n",
       "         1.        ],\n",
       "        [0.17285553, 0.17009029, 0.17353272, 0.169921  , 0.2935463 ,\n",
       "         0.        ]],\n",
       "\n",
       "       [[0.17302483, 0.17285553, 0.1738149 , 0.17189616, 0.31999227,\n",
       "         1.        ],\n",
       "        [0.17285553, 0.17009029, 0.17353272, 0.169921  , 0.2935463 ,\n",
       "         0.        ],\n",
       "        [0.17071106, 0.16975169, 0.1709368 , 0.16851015, 0.25365853,\n",
       "         1.        ]],\n",
       "\n",
       "       [[0.17285553, 0.17009029, 0.17353272, 0.169921  , 0.2935463 ,\n",
       "         0.        ],\n",
       "        [0.17071106, 0.16975169, 0.1709368 , 0.16851015, 0.25365853,\n",
       "         1.        ],\n",
       "        [0.16952597, 0.17088036, 0.1709368 , 0.16856658, 0.23796453,\n",
       "         1.        ]],\n",
       "\n",
       "       [[0.17071106, 0.16975169, 0.1709368 , 0.16851015, 0.25365853,\n",
       "         1.        ],\n",
       "        [0.16952597, 0.17088036, 0.1709368 , 0.16856658, 0.23796453,\n",
       "         1.        ],\n",
       "        [0.17155756, 0.16941309, 0.17172687, 0.1680587 , 0.24573636,\n",
       "         1.        ]]], dtype=float32)"
      ]
     },
     "execution_count": 46,
     "metadata": {},
     "output_type": "execute_result"
    }
   ],
   "source": [
    "train_x[0:4]"
   ]
  },
  {
   "cell_type": "code",
   "execution_count": 103,
   "metadata": {},
   "outputs": [],
   "source": [
    "a = [train_y[i][:,-1].tolist() for i in range(0, len(train_y))]"
   ]
  },
  {
   "cell_type": "code",
   "execution_count": 106,
   "metadata": {},
   "outputs": [
    {
     "data": {
      "text/plain": [
       "(25, 2)"
      ]
     },
     "execution_count": 106,
     "metadata": {},
     "output_type": "execute_result"
    }
   ],
   "source": [
    "a = np.asarray(a)\n",
    "a.shape"
   ]
  },
  {
   "cell_type": "markdown",
   "metadata": {
    "colab_type": "text",
    "id": "NlsLXNmwsdOr"
   },
   "source": [
    "### LSTM NN 구성 정의"
   ]
  },
  {
   "cell_type": "code",
   "execution_count": null,
   "metadata": {
    "colab": {
     "base_uri": "https://localhost:8080/",
     "height": 179
    },
    "colab_type": "code",
    "executionInfo": {
     "elapsed": 1371,
     "status": "ok",
     "timestamp": 1557845147030,
     "user": {
      "displayName": "JAEHYEONG AN",
      "photoUrl": "",
      "userId": "12573335539209637166"
     },
     "user_tz": -540
    },
    "id": "Noe3QT6_sdOs",
    "outputId": "65f65ca7-fd5c-4faa-beb0-8b5c172eb86a"
   },
   "outputs": [
    {
     "name": "stdout",
     "output_type": "stream",
     "text": [
      "WARNING:tensorflow:From /usr/local/lib/python3.6/dist-packages/tensorflow/python/framework/op_def_library.py:263: colocate_with (from tensorflow.python.framework.ops) is deprecated and will be removed in a future version.\n",
      "Instructions for updating:\n",
      "Colocations handled automatically by placer.\n",
      "WARNING:tensorflow:From /usr/local/lib/python3.6/dist-packages/keras/backend/tensorflow_backend.py:3445: calling dropout (from tensorflow.python.ops.nn_ops) with keep_prob is deprecated and will be removed in a future version.\n",
      "Instructions for updating:\n",
      "Please use `rate` instead of `keep_prob`. Rate should be set to `rate = 1 - keep_prob`.\n",
      "IN (None, 30, 5) OUT (None, 120)\n",
      "IN (None, 120) OUT (None, 120)\n",
      "IN (None, 120) OUT (None, 1)\n"
     ]
    }
   ],
   "source": [
    "# 모델 구성하기\n",
    "model = Sequential()\n",
    "hidden_nodes = 120\n",
    "model.add(LSTM(hidden_nodes, input_shape=(WINDOWSIZE, 5), \n",
    "               return_sequences=False))\n",
    "model.add(Dropout(0.5))\n",
    "model.add(Dense(1))\n",
    "model.compile(loss='mean_squared_error', optimizer='adam')\n",
    "\n",
    "for layer in model.layers:\n",
    "  print('IN', layer.input_shape, 'OUT', layer.output_shape)"
   ]
  },
  {
   "cell_type": "code",
   "execution_count": null,
   "metadata": {
    "colab": {
     "base_uri": "https://localhost:8080/",
     "height": 1151
    },
    "colab_type": "code",
    "executionInfo": {
     "elapsed": 36445,
     "status": "ok",
     "timestamp": 1557845184860,
     "user": {
      "displayName": "JAEHYEONG AN",
      "photoUrl": "",
      "userId": "12573335539209637166"
     },
     "user_tz": -540
    },
    "id": "Psl9S_IosdOu",
    "outputId": "554f6f90-97ff-4756-9026-ab1a5b337eac"
   },
   "outputs": [
    {
     "name": "stdout",
     "output_type": "stream",
     "text": [
      "WARNING:tensorflow:From /usr/local/lib/python3.6/dist-packages/tensorflow/python/ops/math_ops.py:3066: to_int32 (from tensorflow.python.ops.math_ops) is deprecated and will be removed in a future version.\n",
      "Instructions for updating:\n",
      "Use tf.cast instead.\n",
      "Epoch 1/30\n",
      "1430/1430 [==============================] - 4s 3ms/step - loss: 0.0439\n",
      "Epoch 2/30\n",
      "1430/1430 [==============================] - 1s 723us/step - loss: 0.0067\n",
      "Epoch 3/30\n",
      "1430/1430 [==============================] - 1s 743us/step - loss: 0.0044\n",
      "Epoch 4/30\n",
      "1430/1430 [==============================] - 1s 745us/step - loss: 0.0039\n",
      "Epoch 5/30\n",
      "1430/1430 [==============================] - 1s 753us/step - loss: 0.0032\n",
      "Epoch 6/30\n",
      "1430/1430 [==============================] - 1s 747us/step - loss: 0.0029\n",
      "Epoch 7/30\n",
      "1430/1430 [==============================] - 1s 748us/step - loss: 0.0026\n",
      "Epoch 8/30\n",
      "1430/1430 [==============================] - 1s 752us/step - loss: 0.0026\n",
      "Epoch 9/30\n",
      "1430/1430 [==============================] - 1s 738us/step - loss: 0.0025\n",
      "Epoch 10/30\n",
      "1430/1430 [==============================] - 1s 736us/step - loss: 0.0022\n",
      "Epoch 11/30\n",
      "1430/1430 [==============================] - 1s 735us/step - loss: 0.0022\n",
      "Epoch 12/30\n",
      "1430/1430 [==============================] - 1s 751us/step - loss: 0.0020\n",
      "Epoch 13/30\n",
      "1430/1430 [==============================] - 1s 737us/step - loss: 0.0021\n",
      "Epoch 14/30\n",
      "1430/1430 [==============================] - 1s 753us/step - loss: 0.0020\n",
      "Epoch 15/30\n",
      "1430/1430 [==============================] - 1s 750us/step - loss: 0.0020\n",
      "Epoch 16/30\n",
      "1430/1430 [==============================] - 1s 746us/step - loss: 0.0021\n",
      "Epoch 17/30\n",
      "1430/1430 [==============================] - 1s 746us/step - loss: 0.0018\n",
      "Epoch 18/30\n",
      "1430/1430 [==============================] - 1s 741us/step - loss: 0.0018\n",
      "Epoch 19/30\n",
      "1430/1430 [==============================] - 1s 742us/step - loss: 0.0018\n",
      "Epoch 20/30\n",
      "1430/1430 [==============================] - 1s 766us/step - loss: 0.0017\n",
      "Epoch 21/30\n",
      "1430/1430 [==============================] - 1s 769us/step - loss: 0.0020\n",
      "Epoch 22/30\n",
      "1430/1430 [==============================] - 1s 758us/step - loss: 0.0018\n",
      "Epoch 23/30\n",
      "1430/1430 [==============================] - 1s 747us/step - loss: 0.0019\n",
      "Epoch 24/30\n",
      "1430/1430 [==============================] - 1s 716us/step - loss: 0.0018\n",
      "Epoch 25/30\n",
      "1430/1430 [==============================] - 1s 760us/step - loss: 0.0018\n",
      "Epoch 26/30\n",
      "1430/1430 [==============================] - 1s 741us/step - loss: 0.0017\n",
      "Epoch 27/30\n",
      "1430/1430 [==============================] - 1s 738us/step - loss: 0.0018\n",
      "Epoch 28/30\n",
      "1430/1430 [==============================] - 1s 744us/step - loss: 0.0018\n",
      "Epoch 29/30\n",
      "1430/1430 [==============================] - 1s 749us/step - loss: 0.0018\n",
      "Epoch 30/30\n",
      "1430/1430 [==============================] - 1s 751us/step - loss: 0.0016\n"
     ]
    }
   ],
   "source": [
    "# 모델 학습하기\n",
    "# train_y[:, 2] --> [시가, 종가, 고가, 저가, 거래량] 중에 고가를 예측\n",
    "hist = model.fit(train_x, train_y[:, 2], \n",
    "                 epochs=30, \n",
    "                 batch_size=64,\n",
    "                 #validation_data=(valid_x, valid_y), \n",
    "                 shuffle=True,\n",
    "                 verbose=1)"
   ]
  },
  {
   "cell_type": "code",
   "execution_count": null,
   "metadata": {
    "colab": {
     "base_uri": "https://localhost:8080/",
     "height": 917
    },
    "colab_type": "code",
    "executionInfo": {
     "elapsed": 826,
     "status": "ok",
     "timestamp": 1557845233798,
     "user": {
      "displayName": "JAEHYEONG AN",
      "photoUrl": "",
      "userId": "12573335539209637166"
     },
     "user_tz": -540
    },
    "id": "Iw8Z8XR2sdOx",
    "outputId": "ef53aa72-6d85-41f7-c0ad-6af413fa5194"
   },
   "outputs": [
    {
     "name": "stdout",
     "output_type": "stream",
     "text": [
      "115.0 111.9 2.68%\n",
      "115.9 112.6 2.86%\n",
      "116.2 113.4 2.38%\n",
      "116.7 114.3 2.10%\n",
      "116.5 115.1 1.20%\n",
      "117.4 115.8 1.33%\n",
      "117.5 116.5 0.86%\n",
      "117.4 117.1 0.28%\n",
      "116.5 117.5 0.88%\n",
      "116.5 117.7 1.04%\n",
      "117.8 117.8 0.00%\n",
      "118.0 117.9 0.07%\n",
      "117.1 118.1 0.82%\n",
      "117.2 118.1 0.75%\n",
      "116.3 118.0 1.43%\n",
      "116.5 117.8 1.10%\n",
      "116.9 117.6 0.62%\n",
      "118.2 117.5 0.58%\n",
      "119.4 117.6 1.54%\n",
      "119.4 118.0 1.18%\n",
      "119.9 118.4 1.24%\n",
      "119.3 119.0 0.27%\n",
      "119.6 119.4 0.19%\n",
      "120.2 119.7 0.43%\n",
      "120.5 120.0 0.38%\n",
      "120.1 120.3 0.22%\n",
      "120.5 120.6 0.09%\n",
      "120.8 120.8 0.03%\n",
      "120.1 121.0 0.72%\n",
      "122.1 121.0 0.87%\n",
      "122.4 121.3 0.90%\n",
      "122.4 121.7 0.52%\n",
      "121.6 122.1 0.39%\n",
      "121.4 122.3 0.77%\n",
      "130.5 122.4 6.20%\n",
      "129.4 123.6 4.46%\n",
      "129.2 125.1 3.17%\n",
      "130.5 126.5 3.05%\n",
      "132.1 127.9 3.14%\n",
      "132.2 129.3 2.18%\n",
      "132.4 130.6 1.41%\n",
      "132.9 131.6 0.99%\n",
      "133.8 132.5 1.01%\n",
      "135.1 133.2 1.37%\n",
      "136.3 134.0 1.65%\n",
      "135.9 134.8 0.78%\n",
      "135.8 135.5 0.23%\n",
      "136.7 136.1 0.51%\n",
      "137.1 136.6 0.39%\n",
      "137.5 137.1 0.29%\n"
     ]
    }
   ],
   "source": [
    "test_y2 = model.predict(test_x)\n",
    "#print(test_y[:10, 2])\n",
    "#print(test_y2[:10])\n",
    "for y, y2 in zip(test_y[:50, 2], test_y2[:50]):\n",
    "    y = y*MAX_PRICE\n",
    "    y2 = y2*MAX_PRICE\n",
    "    print('%.1f %.1f %.2f%%' % (y, y2, abs(y-y2)/y*100))"
   ]
  },
  {
   "cell_type": "code",
   "execution_count": null,
   "metadata": {
    "colab": {
     "base_uri": "https://localhost:8080/",
     "height": 270
    },
    "colab_type": "code",
    "executionInfo": {
     "elapsed": 46735,
     "status": "ok",
     "timestamp": 1556026074594,
     "user": {
      "displayName": "한대희",
      "photoUrl": "",
      "userId": "17475105266749362233"
     },
     "user_tz": -540
    },
    "id": "Sv12mL5vsdO2",
    "outputId": "01a449d7-f39d-4ea4-af32-5cd2f83edbd7"
   },
   "outputs": [
    {
     "data": {
      "image/png": "[encoded data removed]",
      "text/plain": [
       "<Figure size 432x288 with 1 Axes>"
      ]
     },
     "metadata": {
      "tags": []
     },
     "output_type": "display_data"
    }
   ],
   "source": [
    "train_y2 = model.predict(train_x)\n",
    "\n",
    "fig, ax = plt.subplots()\n",
    "ax.plot(train_y[:, 2] * MAX_PRICE, label='actual') # 고가\n",
    "ax.plot(train_y2 * MAX_PRICE, label='nn')\n",
    "plt.legend()\n",
    "plt.show()"
   ]
  },
  {
   "cell_type": "code",
   "execution_count": null,
   "metadata": {
    "colab": {
     "base_uri": "https://localhost:8080/",
     "height": 269
    },
    "colab_type": "code",
    "executionInfo": {
     "elapsed": 46903,
     "status": "ok",
     "timestamp": 1556026074950,
     "user": {
      "displayName": "한대희",
      "photoUrl": "",
      "userId": "17475105266749362233"
     },
     "user_tz": -540
    },
    "id": "IbEDWjzysdO6",
    "outputId": "acdb938b-81b1-4dc7-8793-f4f02dd6d029"
   },
   "outputs": [
    {
     "data": {
      "image/png": "[encoded data removed]",
      "text/plain": [
       "<Figure size 432x288 with 1 Axes>"
      ]
     },
     "metadata": {
      "tags": []
     },
     "output_type": "display_data"
    }
   ],
   "source": [
    "train_y2 = model.predict(train_x)\n",
    "\n",
    "fig, ax = plt.subplots()\n",
    "ax.plot(train_y[1000:1100, 2] * MAX_PRICE, label='actual') # 고가\n",
    "ax.plot(train_y2[1000:1100] * MAX_PRICE, label='nn')\n",
    "plt.legend()\n",
    "plt.show()"
   ]
  },
  {
   "cell_type": "markdown",
   "metadata": {
    "colab_type": "text",
    "id": "M4UtayO-sdO9"
   },
   "source": [
    "### scale된 상태의 수치로 그래프"
   ]
  },
  {
   "cell_type": "code",
   "execution_count": null,
   "metadata": {
    "colab": {
     "base_uri": "https://localhost:8080/",
     "height": 269
    },
    "colab_type": "code",
    "executionInfo": {
     "elapsed": 47030,
     "status": "ok",
     "timestamp": 1556026075403,
     "user": {
      "displayName": "한대희",
      "photoUrl": "",
      "userId": "17475105266749362233"
     },
     "user_tz": -540
    },
    "id": "lLNjnYEGsdO9",
    "outputId": "efe9fdf4-1178-4cbd-c08d-48b92bc9052f"
   },
   "outputs": [
    {
     "data": {
      "image/png": "[encoded data removed]",
      "text/plain": [
       "<Figure size 432x288 with 1 Axes>"
      ]
     },
     "metadata": {
      "tags": []
     },
     "output_type": "display_data"
    }
   ],
   "source": [
    "fig, ax = plt.subplots()\n",
    "ax.plot(test_y[:, 2], label='actual') # 고가\n",
    "ax.plot(test_y2, label='nn')\n",
    "plt.legend()\n",
    "plt.show()"
   ]
  },
  {
   "cell_type": "markdown",
   "metadata": {
    "colab_type": "text",
    "id": "daq5MFVzsdPA"
   },
   "source": [
    "### 원래의 수치로 변환 후 그래프"
   ]
  },
  {
   "cell_type": "code",
   "execution_count": null,
   "metadata": {
    "colab": {
     "base_uri": "https://localhost:8080/",
     "height": 269
    },
    "colab_type": "code",
    "executionInfo": {
     "elapsed": 46887,
     "status": "ok",
     "timestamp": 1556026075748,
     "user": {
      "displayName": "한대희",
      "photoUrl": "",
      "userId": "17475105266749362233"
     },
     "user_tz": -540
    },
    "id": "SGVFaIsysdPC",
    "outputId": "1a090ea1-777d-4a64-b058-cc278fe25aab"
   },
   "outputs": [
    {
     "data": {
      "image/png": "[encoded data removed]",
      "text/plain": [
       "<Figure size 432x288 with 1 Axes>"
      ]
     },
     "metadata": {
      "tags": []
     },
     "output_type": "display_data"
    }
   ],
   "source": [
    "fig, ax = plt.subplots()\n",
    "ax.plot(test_y[:, 2] * MAX_PRICE, label='actual') # 고가\n",
    "ax.plot(test_y2 * MAX_PRICE, label='nn')\n",
    "plt.legend()\n",
    "plt.show()"
   ]
  },
  {
   "cell_type": "code",
   "execution_count": null,
   "metadata": {
    "colab": {},
    "colab_type": "code",
    "id": "yknszmgKsdPF"
   },
   "outputs": [],
   "source": []
  },
  {
   "cell_type": "code",
   "execution_count": null,
   "metadata": {
    "colab": {},
    "colab_type": "code",
    "id": "ePlF9cV5sdPH"
   },
   "outputs": [],
   "source": []
  },
  {
   "cell_type": "code",
   "execution_count": null,
   "metadata": {
    "colab": {},
    "colab_type": "code",
    "id": "itYT8-g8sdPJ"
   },
   "outputs": [],
   "source": []
  }
 ],
 "metadata": {
  "accelerator": "GPU",
  "colab": {
   "collapsed_sections": [],
   "name": "keras_lstm_stock5.ipynb",
   "provenance": [],
   "version": "0.3.2"
  },
  "kernelspec": {
   "display_name": "Python 3",
   "language": "python",
   "name": "python3"
  },
  "language_info": {
   "codemirror_mode": {
    "name": "ipython",
    "version": 3
   },
   "file_extension": ".py",
   "mimetype": "text/x-python",
   "name": "python",
   "nbconvert_exporter": "python",
   "pygments_lexer": "ipython3",
   "version": "3.6.5"
  }
 },
 "nbformat": 4,
 "nbformat_minor": 2
}
